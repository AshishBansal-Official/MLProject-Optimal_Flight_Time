{
 "cells": [
  {
   "cell_type": "code",
   "execution_count": 1,
   "metadata": {
    "id": "9YkF7WpaEiYI"
   },
   "outputs": [],
   "source": [
    "# IMPORTING PYTHON LIBRARIES AND LOADING THE DATA\n",
    "import pandas as pd\n",
    "import numpy as np\n",
    "import matplotlib.pyplot as plt\n",
    "import seaborn as sns\n",
    "from datetime import datetime, timedelta\n",
    "%matplotlib inline\n",
    "from sklearn.preprocessing import LabelEncoder\n",
    "\n",
    "data = pd.read_csv('data.csv')"
   ]
  },
  {
   "cell_type": "markdown",
   "metadata": {
    "id": "WPZisMClIF21"
   },
   "source": [
    "# DESCRIPTIVE DATA ANALYSIS\n",
    "## Basic Data Exploration\n",
    "\n",
    "- Head of the dataset\n",
    "- Shape of the dataset\n",
    "- Info of the dataset\n",
    "- Summary of the dataset"
   ]
  },
  {
   "cell_type": "code",
   "execution_count": 2,
   "metadata": {},
   "outputs": [],
   "source": [
    "pd.set_option('display.max_columns', None)\n",
    "# pd.reset_option('display.max_columns')"
   ]
  },
  {
   "cell_type": "code",
   "execution_count": 3,
   "metadata": {
    "colab": {
     "base_uri": "https://localhost:8080/",
     "height": 270
    },
    "id": "1S8S5ochGLSU",
    "outputId": "c912e9ca-f8d2-4975-f533-a6a110dbe17b"
   },
   "outputs": [
    {
     "data": {
      "text/html": [
       "<div>\n",
       "<style scoped>\n",
       "    .dataframe tbody tr th:only-of-type {\n",
       "        vertical-align: middle;\n",
       "    }\n",
       "\n",
       "    .dataframe tbody tr th {\n",
       "        vertical-align: top;\n",
       "    }\n",
       "\n",
       "    .dataframe thead th {\n",
       "        text-align: right;\n",
       "    }\n",
       "</style>\n",
       "<table border=\"1\" class=\"dataframe\">\n",
       "  <thead>\n",
       "    <tr style=\"text-align: right;\">\n",
       "      <th></th>\n",
       "      <th>Price</th>\n",
       "      <th>departure_time</th>\n",
       "      <th>arrival_time</th>\n",
       "      <th>Airline</th>\n",
       "      <th>Cabin</th>\n",
       "      <th>Dept_city</th>\n",
       "      <th>Dept_date</th>\n",
       "      <th>arrival_city</th>\n",
       "      <th>stops</th>\n",
       "      <th>duration</th>\n",
       "      <th>weekday</th>\n",
       "      <th>dept_hours</th>\n",
       "      <th>Dept_flights_time</th>\n",
       "      <th>optimal_hours</th>\n",
       "    </tr>\n",
       "  </thead>\n",
       "  <tbody>\n",
       "    <tr>\n",
       "      <th>0</th>\n",
       "      <td>3112</td>\n",
       "      <td>14:30</td>\n",
       "      <td>20:20</td>\n",
       "      <td>AirAsia</td>\n",
       "      <td>E</td>\n",
       "      <td>New Delhi</td>\n",
       "      <td>1</td>\n",
       "      <td>Mumbai</td>\n",
       "      <td>1</td>\n",
       "      <td>350</td>\n",
       "      <td>5</td>\n",
       "      <td>14</td>\n",
       "      <td>Afternoon_flight</td>\n",
       "      <td>11</td>\n",
       "    </tr>\n",
       "    <tr>\n",
       "      <th>1</th>\n",
       "      <td>3113</td>\n",
       "      <td>16:55</td>\n",
       "      <td>21:10</td>\n",
       "      <td>Go Air</td>\n",
       "      <td>E</td>\n",
       "      <td>New Delhi</td>\n",
       "      <td>1</td>\n",
       "      <td>Mumbai</td>\n",
       "      <td>1</td>\n",
       "      <td>255</td>\n",
       "      <td>5</td>\n",
       "      <td>16</td>\n",
       "      <td>Evening_flight</td>\n",
       "      <td>13</td>\n",
       "    </tr>\n",
       "    <tr>\n",
       "      <th>2</th>\n",
       "      <td>3113</td>\n",
       "      <td>16:45</td>\n",
       "      <td>21:05</td>\n",
       "      <td>Go Air</td>\n",
       "      <td>E</td>\n",
       "      <td>New Delhi</td>\n",
       "      <td>1</td>\n",
       "      <td>Mumbai</td>\n",
       "      <td>1</td>\n",
       "      <td>260</td>\n",
       "      <td>5</td>\n",
       "      <td>16</td>\n",
       "      <td>Evening_flight</td>\n",
       "      <td>13</td>\n",
       "    </tr>\n",
       "    <tr>\n",
       "      <th>3</th>\n",
       "      <td>3113</td>\n",
       "      <td>07:55</td>\n",
       "      <td>13:00</td>\n",
       "      <td>Go Air</td>\n",
       "      <td>E</td>\n",
       "      <td>New Delhi</td>\n",
       "      <td>1</td>\n",
       "      <td>Mumbai</td>\n",
       "      <td>1</td>\n",
       "      <td>305</td>\n",
       "      <td>5</td>\n",
       "      <td>7</td>\n",
       "      <td>Morning_flight</td>\n",
       "      <td>4</td>\n",
       "    </tr>\n",
       "    <tr>\n",
       "      <th>4</th>\n",
       "      <td>3113</td>\n",
       "      <td>09:00</td>\n",
       "      <td>14:20</td>\n",
       "      <td>Go Air</td>\n",
       "      <td>E</td>\n",
       "      <td>New Delhi</td>\n",
       "      <td>1</td>\n",
       "      <td>Mumbai</td>\n",
       "      <td>1</td>\n",
       "      <td>320</td>\n",
       "      <td>5</td>\n",
       "      <td>9</td>\n",
       "      <td>Morning_flight</td>\n",
       "      <td>6</td>\n",
       "    </tr>\n",
       "  </tbody>\n",
       "</table>\n",
       "</div>"
      ],
      "text/plain": [
       "   Price departure_time arrival_time  Airline Cabin  Dept_city  Dept_date  \\\n",
       "0   3112          14:30        20:20  AirAsia     E  New Delhi          1   \n",
       "1   3113          16:55        21:10   Go Air     E  New Delhi          1   \n",
       "2   3113          16:45        21:05   Go Air     E  New Delhi          1   \n",
       "3   3113          07:55        13:00   Go Air     E  New Delhi          1   \n",
       "4   3113          09:00        14:20   Go Air     E  New Delhi          1   \n",
       "\n",
       "  arrival_city  stops  duration  weekday  dept_hours Dept_flights_time  \\\n",
       "0      Mumbai       1       350        5          14  Afternoon_flight   \n",
       "1      Mumbai       1       255        5          16    Evening_flight   \n",
       "2      Mumbai       1       260        5          16    Evening_flight   \n",
       "3      Mumbai       1       305        5           7    Morning_flight   \n",
       "4      Mumbai       1       320        5           9    Morning_flight   \n",
       "\n",
       "   optimal_hours  \n",
       "0             11  \n",
       "1             13  \n",
       "2             13  \n",
       "3              4  \n",
       "4              6  "
      ]
     },
     "execution_count": 3,
     "metadata": {},
     "output_type": "execute_result"
    }
   ],
   "source": [
    "data.head()"
   ]
  },
  {
   "cell_type": "code",
   "execution_count": 4,
   "metadata": {},
   "outputs": [
    {
     "data": {
      "text/plain": [
       "array(['14:30', '16:55', '16:45', '07:55', '09:00', '20:55', '15:25',\n",
       "       '12:40', '04:55', '11:55', '08:20', '08:00', '12:00', '02:40',\n",
       "       '20:05', '18:00', '13:35', '16:05', '12:35', '22:45', '10:20',\n",
       "       '06:50', '10:30', '05:45', '11:20', '12:30', '22:15', '06:15',\n",
       "       '17:15', '09:45', '07:10', '03:00', '14:45', '16:40', '18:15',\n",
       "       '11:35', '21:25', '11:10', '15:20', '11:30', '13:30', '08:35',\n",
       "       '00:10', '16:15', '18:35', '18:55', '17:20', '06:05', '07:50',\n",
       "       '16:20', '09:50', '01:05', '08:05', '13:50', '12:50', '15:00',\n",
       "       '17:55', '01:50', '17:45', '17:25', '15:50', '05:35', '19:25',\n",
       "       '11:45', '00:25', '10:00', '10:55', '06:00', '19:00', '17:40',\n",
       "       '08:50', '16:30', '06:45', '05:50', '12:05', '21:15', '17:30',\n",
       "       '15:45', '18:30', '09:15', '15:10', '22:50', '07:45', '11:25',\n",
       "       '06:30', '13:05', '07:35', '17:10', '07:00', '08:30', '10:15',\n",
       "       '07:30', '04:35', '00:15', '04:25', '19:30', '08:15', '10:05',\n",
       "       '18:25', '04:50', '21:00', '05:55', '09:40', '14:40', '14:10',\n",
       "       '05:05', '14:15', '10:45', '16:35', '05:00', '13:45', '14:05',\n",
       "       '17:05', '09:05', '05:25', '21:55', '19:20', '05:15', '14:25',\n",
       "       '22:05', '07:15', '12:20', '21:50', '06:55', '04:40', '14:20',\n",
       "       '00:45', '16:25', '08:40', '22:00', '05:40', '20:25', '07:40',\n",
       "       '09:20', '19:10', '21:20', '19:45', '20:35', '20:50', '18:05',\n",
       "       '18:10', '17:35', '14:55', '13:15', '15:05', '13:10', '16:10',\n",
       "       '12:15', '10:25', '11:05', '08:45', '20:15', '15:30', '15:40',\n",
       "       '07:20', '09:55', '06:25', '12:10', '19:50', '17:00', '09:30',\n",
       "       '13:55', '19:35', '18:45', '11:50', '21:10', '08:10', '08:25',\n",
       "       '23:00', '09:10', '05:30', '19:40', '18:20', '09:25', '01:15',\n",
       "       '20:10', '21:30', '06:20', '19:05', '23:30', '20:20', '07:25',\n",
       "       '06:40', '20:40', '22:40', '15:35', '10:40', '13:20', '20:00',\n",
       "       '12:25', '09:35', '10:10', '16:00', '11:00', '22:10', '22:55',\n",
       "       '13:40', '18:50', '16:50', '14:00', '17:50', '18:40', '11:15',\n",
       "       '15:15', '20:45', '19:15', '15:55', '19:55', '21:45', '22:35',\n",
       "       '22:20', '14:50', '20:30', '23:10', '21:40', '22:25', '23:20',\n",
       "       '23:35', '21:35', '21:05', '06:10', '08:55', '13:00', '07:05',\n",
       "       '10:35', '05:20', '04:45', '10:50', '14:35', '05:10', '12:45',\n",
       "       '01:40', '13:25', '12:55', '01:10', '23:50', '02:50', '11:40',\n",
       "       '04:00', '01:00', '00:05', '23:55', '06:35', '03:45', '23:40',\n",
       "       '01:25', '23:25', '02:25'], dtype=object)"
      ]
     },
     "execution_count": 4,
     "metadata": {},
     "output_type": "execute_result"
    }
   ],
   "source": [
    "data['departure_time'].unique()"
   ]
  },
  {
   "cell_type": "code",
   "execution_count": 5,
   "metadata": {
    "colab": {
     "base_uri": "https://localhost:8080/"
    },
    "id": "PjycWKv8GbeU",
    "outputId": "c273dd51-f0d4-47e3-f094-80f32263a98a"
   },
   "outputs": [
    {
     "name": "stdout",
     "output_type": "stream",
     "text": [
      "<class 'pandas.core.frame.DataFrame'>\n",
      "RangeIndex: 330938 entries, 0 to 330937\n",
      "Data columns (total 14 columns):\n",
      " #   Column             Non-Null Count   Dtype \n",
      "---  ------             --------------   ----- \n",
      " 0   Price              330938 non-null  int64 \n",
      " 1   departure_time     330938 non-null  object\n",
      " 2   arrival_time       330938 non-null  object\n",
      " 3   Airline            330938 non-null  object\n",
      " 4   Cabin              330938 non-null  object\n",
      " 5   Dept_city          330938 non-null  object\n",
      " 6   Dept_date          330938 non-null  int64 \n",
      " 7   arrival_city       330938 non-null  object\n",
      " 8   stops              330938 non-null  int64 \n",
      " 9   duration           330938 non-null  int64 \n",
      " 10  weekday            330938 non-null  int64 \n",
      " 11  dept_hours         330938 non-null  int64 \n",
      " 12  Dept_flights_time  330938 non-null  object\n",
      " 13  optimal_hours      330938 non-null  int64 \n",
      "dtypes: int64(7), object(7)\n",
      "memory usage: 35.3+ MB\n"
     ]
    }
   ],
   "source": [
    "data.info()"
   ]
  },
  {
   "cell_type": "code",
   "execution_count": 6,
   "metadata": {
    "colab": {
     "base_uri": "https://localhost:8080/"
    },
    "id": "dwo04BCiGhBG",
    "outputId": "933b910e-4db6-4e70-8df0-6b8abcc82e2b"
   },
   "outputs": [
    {
     "data": {
      "text/plain": [
       "(330938, 14)"
      ]
     },
     "execution_count": 6,
     "metadata": {},
     "output_type": "execute_result"
    }
   ],
   "source": [
    "data.shape"
   ]
  },
  {
   "cell_type": "code",
   "execution_count": 7,
   "metadata": {
    "colab": {
     "base_uri": "https://localhost:8080/",
     "height": 300
    },
    "id": "9YD2-z3kGnaC",
    "outputId": "f957f02b-b93b-4ce0-da31-5200c283c27c"
   },
   "outputs": [
    {
     "data": {
      "text/html": [
       "<div>\n",
       "<style scoped>\n",
       "    .dataframe tbody tr th:only-of-type {\n",
       "        vertical-align: middle;\n",
       "    }\n",
       "\n",
       "    .dataframe tbody tr th {\n",
       "        vertical-align: top;\n",
       "    }\n",
       "\n",
       "    .dataframe thead th {\n",
       "        text-align: right;\n",
       "    }\n",
       "</style>\n",
       "<table border=\"1\" class=\"dataframe\">\n",
       "  <thead>\n",
       "    <tr style=\"text-align: right;\">\n",
       "      <th></th>\n",
       "      <th>Price</th>\n",
       "      <th>Dept_date</th>\n",
       "      <th>stops</th>\n",
       "      <th>duration</th>\n",
       "      <th>weekday</th>\n",
       "      <th>dept_hours</th>\n",
       "      <th>optimal_hours</th>\n",
       "    </tr>\n",
       "  </thead>\n",
       "  <tbody>\n",
       "    <tr>\n",
       "      <th>count</th>\n",
       "      <td>330938.000000</td>\n",
       "      <td>330938.000000</td>\n",
       "      <td>330938.000000</td>\n",
       "      <td>330938.000000</td>\n",
       "      <td>330938.000000</td>\n",
       "      <td>330938.000000</td>\n",
       "      <td>330938.000000</td>\n",
       "    </tr>\n",
       "    <tr>\n",
       "      <th>mean</th>\n",
       "      <td>14074.894817</td>\n",
       "      <td>16.713064</td>\n",
       "      <td>1.278974</td>\n",
       "      <td>590.186636</td>\n",
       "      <td>2.902087</td>\n",
       "      <td>12.602539</td>\n",
       "      <td>12.568575</td>\n",
       "    </tr>\n",
       "    <tr>\n",
       "      <th>std</th>\n",
       "      <td>15968.136248</td>\n",
       "      <td>8.166245</td>\n",
       "      <td>0.802891</td>\n",
       "      <td>364.512309</td>\n",
       "      <td>2.088561</td>\n",
       "      <td>4.848977</td>\n",
       "      <td>6.882780</td>\n",
       "    </tr>\n",
       "    <tr>\n",
       "      <th>min</th>\n",
       "      <td>1579.000000</td>\n",
       "      <td>1.000000</td>\n",
       "      <td>0.000000</td>\n",
       "      <td>0.000000</td>\n",
       "      <td>0.000000</td>\n",
       "      <td>0.000000</td>\n",
       "      <td>0.000000</td>\n",
       "    </tr>\n",
       "    <tr>\n",
       "      <th>25%</th>\n",
       "      <td>5450.000000</td>\n",
       "      <td>10.000000</td>\n",
       "      <td>1.000000</td>\n",
       "      <td>325.000000</td>\n",
       "      <td>1.000000</td>\n",
       "      <td>9.000000</td>\n",
       "      <td>7.000000</td>\n",
       "    </tr>\n",
       "    <tr>\n",
       "      <th>50%</th>\n",
       "      <td>7559.000000</td>\n",
       "      <td>17.000000</td>\n",
       "      <td>1.000000</td>\n",
       "      <td>515.000000</td>\n",
       "      <td>3.000000</td>\n",
       "      <td>12.000000</td>\n",
       "      <td>13.000000</td>\n",
       "    </tr>\n",
       "    <tr>\n",
       "      <th>75%</th>\n",
       "      <td>11742.000000</td>\n",
       "      <td>24.000000</td>\n",
       "      <td>2.000000</td>\n",
       "      <td>845.000000</td>\n",
       "      <td>5.000000</td>\n",
       "      <td>16.000000</td>\n",
       "      <td>18.000000</td>\n",
       "    </tr>\n",
       "    <tr>\n",
       "      <th>max</th>\n",
       "      <td>115432.000000</td>\n",
       "      <td>31.000000</td>\n",
       "      <td>6.000000</td>\n",
       "      <td>1435.000000</td>\n",
       "      <td>6.000000</td>\n",
       "      <td>23.000000</td>\n",
       "      <td>23.000000</td>\n",
       "    </tr>\n",
       "  </tbody>\n",
       "</table>\n",
       "</div>"
      ],
      "text/plain": [
       "               Price      Dept_date          stops       duration  \\\n",
       "count  330938.000000  330938.000000  330938.000000  330938.000000   \n",
       "mean    14074.894817      16.713064       1.278974     590.186636   \n",
       "std     15968.136248       8.166245       0.802891     364.512309   \n",
       "min      1579.000000       1.000000       0.000000       0.000000   \n",
       "25%      5450.000000      10.000000       1.000000     325.000000   \n",
       "50%      7559.000000      17.000000       1.000000     515.000000   \n",
       "75%     11742.000000      24.000000       2.000000     845.000000   \n",
       "max    115432.000000      31.000000       6.000000    1435.000000   \n",
       "\n",
       "             weekday     dept_hours  optimal_hours  \n",
       "count  330938.000000  330938.000000  330938.000000  \n",
       "mean        2.902087      12.602539      12.568575  \n",
       "std         2.088561       4.848977       6.882780  \n",
       "min         0.000000       0.000000       0.000000  \n",
       "25%         1.000000       9.000000       7.000000  \n",
       "50%         3.000000      12.000000      13.000000  \n",
       "75%         5.000000      16.000000      18.000000  \n",
       "max         6.000000      23.000000      23.000000  "
      ]
     },
     "execution_count": 7,
     "metadata": {},
     "output_type": "execute_result"
    }
   ],
   "source": [
    "data.describe()"
   ]
  },
  {
   "cell_type": "code",
   "execution_count": 8,
   "metadata": {
    "colab": {
     "base_uri": "https://localhost:8080/"
    },
    "id": "0bAGKKIGGuR2",
    "outputId": "954af93a-411c-4436-a9fd-75a46d541993"
   },
   "outputs": [
    {
     "data": {
      "text/plain": [
       "Price                0\n",
       "departure_time       0\n",
       "arrival_time         0\n",
       "Airline              0\n",
       "Cabin                0\n",
       "Dept_city            0\n",
       "Dept_date            0\n",
       "arrival_city         0\n",
       "stops                0\n",
       "duration             0\n",
       "weekday              0\n",
       "dept_hours           0\n",
       "Dept_flights_time    0\n",
       "optimal_hours        0\n",
       "dtype: int64"
      ]
     },
     "execution_count": 8,
     "metadata": {},
     "output_type": "execute_result"
    }
   ],
   "source": [
    "# finding missing values in data\n",
    "data.isnull().sum()"
   ]
  },
  {
   "cell_type": "code",
   "execution_count": 9,
   "metadata": {
    "id": "ebKrWilGH-60"
   },
   "outputs": [],
   "source": [
    "# insights \n",
    "# we can clearly see that we have no missing values\n",
    "# now moving on to the next step \n",
    "# now applying exploratory data analysis"
   ]
  },
  {
   "cell_type": "markdown",
   "metadata": {
    "id": "KdfOHI61QkXH"
   },
   "source": [
    "# DATA CLEANING\n",
    "1. Checking for duplicate records in the data\n",
    "2. Checking for garbage value in the data"
   ]
  },
  {
   "cell_type": "code",
   "execution_count": 10,
   "metadata": {
    "colab": {
     "base_uri": "https://localhost:8080/",
     "height": 522
    },
    "id": "e3sF99rEJc0p",
    "outputId": "543f6a6e-2edf-4c95-e100-54c2d43539c1",
    "scrolled": true
   },
   "outputs": [
    {
     "data": {
      "text/html": [
       "<div>\n",
       "<style scoped>\n",
       "    .dataframe tbody tr th:only-of-type {\n",
       "        vertical-align: middle;\n",
       "    }\n",
       "\n",
       "    .dataframe tbody tr th {\n",
       "        vertical-align: top;\n",
       "    }\n",
       "\n",
       "    .dataframe thead th {\n",
       "        text-align: right;\n",
       "    }\n",
       "</style>\n",
       "<table border=\"1\" class=\"dataframe\">\n",
       "  <thead>\n",
       "    <tr style=\"text-align: right;\">\n",
       "      <th></th>\n",
       "      <th>Price</th>\n",
       "      <th>departure_time</th>\n",
       "      <th>arrival_time</th>\n",
       "      <th>Airline</th>\n",
       "      <th>Cabin</th>\n",
       "      <th>Dept_city</th>\n",
       "      <th>Dept_date</th>\n",
       "      <th>arrival_city</th>\n",
       "      <th>stops</th>\n",
       "      <th>duration</th>\n",
       "      <th>weekday</th>\n",
       "      <th>dept_hours</th>\n",
       "      <th>Dept_flights_time</th>\n",
       "      <th>optimal_hours</th>\n",
       "    </tr>\n",
       "  </thead>\n",
       "  <tbody>\n",
       "    <tr>\n",
       "      <th>14128</th>\n",
       "      <td>12223</td>\n",
       "      <td>22:00</td>\n",
       "      <td>18:10</td>\n",
       "      <td>Air India</td>\n",
       "      <td>E</td>\n",
       "      <td>Hyderabad</td>\n",
       "      <td>4</td>\n",
       "      <td>Pune</td>\n",
       "      <td>3</td>\n",
       "      <td>1210</td>\n",
       "      <td>1</td>\n",
       "      <td>22</td>\n",
       "      <td>Night_flight</td>\n",
       "      <td>6</td>\n",
       "    </tr>\n",
       "    <tr>\n",
       "      <th>17390</th>\n",
       "      <td>17067</td>\n",
       "      <td>21:10</td>\n",
       "      <td>16:20</td>\n",
       "      <td>Air India</td>\n",
       "      <td>E</td>\n",
       "      <td>Patna</td>\n",
       "      <td>4</td>\n",
       "      <td>Thiruvananthapuram</td>\n",
       "      <td>3</td>\n",
       "      <td>1150</td>\n",
       "      <td>1</td>\n",
       "      <td>21</td>\n",
       "      <td>Night_flight</td>\n",
       "      <td>4</td>\n",
       "    </tr>\n",
       "    <tr>\n",
       "      <th>33103</th>\n",
       "      <td>10506</td>\n",
       "      <td>09:55</td>\n",
       "      <td>07:20</td>\n",
       "      <td>Air India</td>\n",
       "      <td>E</td>\n",
       "      <td>Chennai</td>\n",
       "      <td>7</td>\n",
       "      <td>Nagpur</td>\n",
       "      <td>3</td>\n",
       "      <td>1285</td>\n",
       "      <td>4</td>\n",
       "      <td>9</td>\n",
       "      <td>Morning_flight</td>\n",
       "      <td>9</td>\n",
       "    </tr>\n",
       "    <tr>\n",
       "      <th>33107</th>\n",
       "      <td>10506</td>\n",
       "      <td>06:10</td>\n",
       "      <td>07:20</td>\n",
       "      <td>Air India</td>\n",
       "      <td>E</td>\n",
       "      <td>Chennai</td>\n",
       "      <td>7</td>\n",
       "      <td>Nagpur</td>\n",
       "      <td>3</td>\n",
       "      <td>70</td>\n",
       "      <td>4</td>\n",
       "      <td>6</td>\n",
       "      <td>Morning_flight</td>\n",
       "      <td>6</td>\n",
       "    </tr>\n",
       "    <tr>\n",
       "      <th>35253</th>\n",
       "      <td>10617</td>\n",
       "      <td>08:55</td>\n",
       "      <td>07:20</td>\n",
       "      <td>Air India</td>\n",
       "      <td>E</td>\n",
       "      <td>Lucknow</td>\n",
       "      <td>7</td>\n",
       "      <td>Nagpur</td>\n",
       "      <td>3</td>\n",
       "      <td>1345</td>\n",
       "      <td>4</td>\n",
       "      <td>8</td>\n",
       "      <td>Morning_flight</td>\n",
       "      <td>7</td>\n",
       "    </tr>\n",
       "    <tr>\n",
       "      <th>...</th>\n",
       "      <td>...</td>\n",
       "      <td>...</td>\n",
       "      <td>...</td>\n",
       "      <td>...</td>\n",
       "      <td>...</td>\n",
       "      <td>...</td>\n",
       "      <td>...</td>\n",
       "      <td>...</td>\n",
       "      <td>...</td>\n",
       "      <td>...</td>\n",
       "      <td>...</td>\n",
       "      <td>...</td>\n",
       "      <td>...</td>\n",
       "      <td>...</td>\n",
       "    </tr>\n",
       "    <tr>\n",
       "      <th>314809</th>\n",
       "      <td>49410</td>\n",
       "      <td>09:55</td>\n",
       "      <td>07:20</td>\n",
       "      <td>Vistara, Air India</td>\n",
       "      <td>B</td>\n",
       "      <td>Amritsar</td>\n",
       "      <td>29</td>\n",
       "      <td>Nagpur</td>\n",
       "      <td>3</td>\n",
       "      <td>1285</td>\n",
       "      <td>5</td>\n",
       "      <td>9</td>\n",
       "      <td>Morning_flight</td>\n",
       "      <td>21</td>\n",
       "    </tr>\n",
       "    <tr>\n",
       "      <th>317022</th>\n",
       "      <td>52811</td>\n",
       "      <td>08:55</td>\n",
       "      <td>07:15</td>\n",
       "      <td>Air India</td>\n",
       "      <td>B</td>\n",
       "      <td>Lucknow</td>\n",
       "      <td>31</td>\n",
       "      <td>Chennai</td>\n",
       "      <td>3</td>\n",
       "      <td>1340</td>\n",
       "      <td>0</td>\n",
       "      <td>8</td>\n",
       "      <td>Morning_flight</td>\n",
       "      <td>19</td>\n",
       "    </tr>\n",
       "    <tr>\n",
       "      <th>317307</th>\n",
       "      <td>59764</td>\n",
       "      <td>09:40</td>\n",
       "      <td>07:15</td>\n",
       "      <td>Vistara, Air India</td>\n",
       "      <td>B</td>\n",
       "      <td>Bhubaneswar</td>\n",
       "      <td>31</td>\n",
       "      <td>Chennai</td>\n",
       "      <td>3</td>\n",
       "      <td>1295</td>\n",
       "      <td>0</td>\n",
       "      <td>9</td>\n",
       "      <td>Morning_flight</td>\n",
       "      <td>19</td>\n",
       "    </tr>\n",
       "    <tr>\n",
       "      <th>317485</th>\n",
       "      <td>53090</td>\n",
       "      <td>12:10</td>\n",
       "      <td>07:15</td>\n",
       "      <td>Air India</td>\n",
       "      <td>B</td>\n",
       "      <td>Varanasi</td>\n",
       "      <td>31</td>\n",
       "      <td>Chennai</td>\n",
       "      <td>3</td>\n",
       "      <td>1145</td>\n",
       "      <td>0</td>\n",
       "      <td>12</td>\n",
       "      <td>Afternoon_flight</td>\n",
       "      <td>21</td>\n",
       "    </tr>\n",
       "    <tr>\n",
       "      <th>317498</th>\n",
       "      <td>43794</td>\n",
       "      <td>12:10</td>\n",
       "      <td>06:50</td>\n",
       "      <td>Air India</td>\n",
       "      <td>B</td>\n",
       "      <td>Varanasi</td>\n",
       "      <td>31</td>\n",
       "      <td>Goa</td>\n",
       "      <td>3</td>\n",
       "      <td>1120</td>\n",
       "      <td>0</td>\n",
       "      <td>12</td>\n",
       "      <td>Afternoon_flight</td>\n",
       "      <td>21</td>\n",
       "    </tr>\n",
       "  </tbody>\n",
       "</table>\n",
       "<p>162 rows × 14 columns</p>\n",
       "</div>"
      ],
      "text/plain": [
       "        Price departure_time arrival_time             Airline Cabin  \\\n",
       "14128   12223          22:00        18:10           Air India     E   \n",
       "17390   17067          21:10        16:20           Air India     E   \n",
       "33103   10506          09:55        07:20           Air India     E   \n",
       "33107   10506          06:10        07:20           Air India     E   \n",
       "35253   10617          08:55        07:20           Air India     E   \n",
       "...       ...            ...          ...                 ...   ...   \n",
       "314809  49410          09:55        07:20  Vistara, Air India     B   \n",
       "317022  52811          08:55        07:15           Air India     B   \n",
       "317307  59764          09:40        07:15  Vistara, Air India     B   \n",
       "317485  53090          12:10        07:15           Air India     B   \n",
       "317498  43794          12:10        06:50           Air India     B   \n",
       "\n",
       "          Dept_city  Dept_date         arrival_city  stops  duration  weekday  \\\n",
       "14128     Hyderabad          4                Pune       3      1210        1   \n",
       "17390         Patna          4  Thiruvananthapuram       3      1150        1   \n",
       "33103       Chennai          7              Nagpur       3      1285        4   \n",
       "33107       Chennai          7              Nagpur       3        70        4   \n",
       "35253       Lucknow          7              Nagpur       3      1345        4   \n",
       "...             ...        ...                  ...    ...       ...      ...   \n",
       "314809     Amritsar         29              Nagpur       3      1285        5   \n",
       "317022      Lucknow         31             Chennai       3      1340        0   \n",
       "317307  Bhubaneswar         31             Chennai       3      1295        0   \n",
       "317485     Varanasi         31             Chennai       3      1145        0   \n",
       "317498     Varanasi         31                 Goa       3      1120        0   \n",
       "\n",
       "        dept_hours Dept_flights_time  optimal_hours  \n",
       "14128           22      Night_flight              6  \n",
       "17390           21      Night_flight              4  \n",
       "33103            9    Morning_flight              9  \n",
       "33107            6    Morning_flight              6  \n",
       "35253            8    Morning_flight              7  \n",
       "...            ...               ...            ...  \n",
       "314809           9    Morning_flight             21  \n",
       "317022           8    Morning_flight             19  \n",
       "317307           9    Morning_flight             19  \n",
       "317485          12  Afternoon_flight             21  \n",
       "317498          12  Afternoon_flight             21  \n",
       "\n",
       "[162 rows x 14 columns]"
      ]
     },
     "execution_count": 10,
     "metadata": {},
     "output_type": "execute_result"
    }
   ],
   "source": [
    "#data cleaning - duplicate data\n",
    "data.loc[data.duplicated(),:]"
   ]
  },
  {
   "cell_type": "code",
   "execution_count": 11,
   "metadata": {
    "id": "p0rJexP8Kvnl"
   },
   "outputs": [],
   "source": [
    "# drop the duplicate data\n",
    "data = data.drop_duplicates(ignore_index = True)"
   ]
  },
  {
   "cell_type": "code",
   "execution_count": 12,
   "metadata": {
    "colab": {
     "base_uri": "https://localhost:8080/"
    },
    "id": "SMRAMoN3LfkS",
    "outputId": "a9e26c36-5f26-47b0-b01f-a0575adc1ece"
   },
   "outputs": [
    {
     "data": {
      "text/plain": [
       "Index(['Price', 'departure_time', 'arrival_time', 'Airline', 'Cabin',\n",
       "       'Dept_city', 'Dept_date', 'arrival_city', 'stops', 'duration',\n",
       "       'weekday', 'dept_hours', 'Dept_flights_time', 'optimal_hours'],\n",
       "      dtype='object')"
      ]
     },
     "execution_count": 12,
     "metadata": {},
     "output_type": "execute_result"
    }
   ],
   "source": [
    "data.columns"
   ]
  },
  {
   "cell_type": "code",
   "execution_count": 13,
   "metadata": {
    "colab": {
     "base_uri": "https://localhost:8080/"
    },
    "id": "f7pxx6ylQ0gx",
    "outputId": "92e8bd35-3681-46fb-f873-8b63294a6e60"
   },
   "outputs": [
    {
     "data": {
      "text/plain": [
       "Price                16283\n",
       "departure_time         248\n",
       "arrival_time           256\n",
       "Airline                 44\n",
       "Cabin                    3\n",
       "Dept_city               30\n",
       "Dept_date               31\n",
       "arrival_city            30\n",
       "stops                    7\n",
       "duration               288\n",
       "weekday                  7\n",
       "dept_hours              24\n",
       "Dept_flights_time        4\n",
       "optimal_hours           24\n",
       "dtype: int64"
      ]
     },
     "execution_count": 13,
     "metadata": {},
     "output_type": "execute_result"
    }
   ],
   "source": [
    " data[['Price', 'departure_time', 'arrival_time', 'Airline', 'Cabin',\n",
    "       'Dept_city', 'Dept_date', 'arrival_city', 'stops', 'duration',\n",
    "       'weekday', 'dept_hours', 'Dept_flights_time', 'optimal_hours']].nunique()"
   ]
  },
  {
   "cell_type": "code",
   "execution_count": 14,
   "metadata": {
    "id": "dTGg3CPGLhdK"
   },
   "outputs": [],
   "source": [
    "# insight \n",
    "# checking for the columns datatypes which are numeric in nature but are in object datatype\n",
    "# as we can see that departure_time is datatime column but written as object column"
   ]
  },
  {
   "cell_type": "code",
   "execution_count": 15,
   "metadata": {
    "colab": {
     "base_uri": "https://localhost:8080/"
    },
    "id": "RquCQYTvMRmF",
    "outputId": "07909ca3-a8dc-4440-b86b-a693330b76d5"
   },
   "outputs": [
    {
     "data": {
      "text/plain": [
       "Price                 int64\n",
       "departure_time       object\n",
       "arrival_time         object\n",
       "Airline              object\n",
       "Cabin                object\n",
       "Dept_city            object\n",
       "Dept_date             int64\n",
       "arrival_city         object\n",
       "stops                 int64\n",
       "duration              int64\n",
       "weekday               int64\n",
       "dept_hours            int64\n",
       "Dept_flights_time    object\n",
       "optimal_hours         int64\n",
       "dtype: object"
      ]
     },
     "execution_count": 15,
     "metadata": {},
     "output_type": "execute_result"
    }
   ],
   "source": [
    "data.dtypes"
   ]
  },
  {
   "cell_type": "code",
   "execution_count": 16,
   "metadata": {
    "colab": {
     "base_uri": "https://localhost:8080/",
     "height": 270
    },
    "id": "jlNS-tZCMWIS",
    "outputId": "6ef975db-e296-4d4d-cbcd-e34fc3a0e85b"
   },
   "outputs": [
    {
     "data": {
      "text/html": [
       "<div>\n",
       "<style scoped>\n",
       "    .dataframe tbody tr th:only-of-type {\n",
       "        vertical-align: middle;\n",
       "    }\n",
       "\n",
       "    .dataframe tbody tr th {\n",
       "        vertical-align: top;\n",
       "    }\n",
       "\n",
       "    .dataframe thead th {\n",
       "        text-align: right;\n",
       "    }\n",
       "</style>\n",
       "<table border=\"1\" class=\"dataframe\">\n",
       "  <thead>\n",
       "    <tr style=\"text-align: right;\">\n",
       "      <th></th>\n",
       "      <th>Price</th>\n",
       "      <th>departure_time</th>\n",
       "      <th>arrival_time</th>\n",
       "      <th>Airline</th>\n",
       "      <th>Cabin</th>\n",
       "      <th>Dept_city</th>\n",
       "      <th>Dept_date</th>\n",
       "      <th>arrival_city</th>\n",
       "      <th>stops</th>\n",
       "      <th>duration</th>\n",
       "      <th>weekday</th>\n",
       "      <th>dept_hours</th>\n",
       "      <th>Dept_flights_time</th>\n",
       "      <th>optimal_hours</th>\n",
       "    </tr>\n",
       "  </thead>\n",
       "  <tbody>\n",
       "    <tr>\n",
       "      <th>0</th>\n",
       "      <td>3112</td>\n",
       "      <td>14:30</td>\n",
       "      <td>20:20</td>\n",
       "      <td>AirAsia</td>\n",
       "      <td>E</td>\n",
       "      <td>New Delhi</td>\n",
       "      <td>1</td>\n",
       "      <td>Mumbai</td>\n",
       "      <td>1</td>\n",
       "      <td>350</td>\n",
       "      <td>5</td>\n",
       "      <td>14</td>\n",
       "      <td>Afternoon_flight</td>\n",
       "      <td>11</td>\n",
       "    </tr>\n",
       "    <tr>\n",
       "      <th>1</th>\n",
       "      <td>3113</td>\n",
       "      <td>16:55</td>\n",
       "      <td>21:10</td>\n",
       "      <td>Go Air</td>\n",
       "      <td>E</td>\n",
       "      <td>New Delhi</td>\n",
       "      <td>1</td>\n",
       "      <td>Mumbai</td>\n",
       "      <td>1</td>\n",
       "      <td>255</td>\n",
       "      <td>5</td>\n",
       "      <td>16</td>\n",
       "      <td>Evening_flight</td>\n",
       "      <td>13</td>\n",
       "    </tr>\n",
       "    <tr>\n",
       "      <th>2</th>\n",
       "      <td>3113</td>\n",
       "      <td>16:45</td>\n",
       "      <td>21:05</td>\n",
       "      <td>Go Air</td>\n",
       "      <td>E</td>\n",
       "      <td>New Delhi</td>\n",
       "      <td>1</td>\n",
       "      <td>Mumbai</td>\n",
       "      <td>1</td>\n",
       "      <td>260</td>\n",
       "      <td>5</td>\n",
       "      <td>16</td>\n",
       "      <td>Evening_flight</td>\n",
       "      <td>13</td>\n",
       "    </tr>\n",
       "    <tr>\n",
       "      <th>3</th>\n",
       "      <td>3113</td>\n",
       "      <td>07:55</td>\n",
       "      <td>13:00</td>\n",
       "      <td>Go Air</td>\n",
       "      <td>E</td>\n",
       "      <td>New Delhi</td>\n",
       "      <td>1</td>\n",
       "      <td>Mumbai</td>\n",
       "      <td>1</td>\n",
       "      <td>305</td>\n",
       "      <td>5</td>\n",
       "      <td>7</td>\n",
       "      <td>Morning_flight</td>\n",
       "      <td>4</td>\n",
       "    </tr>\n",
       "    <tr>\n",
       "      <th>4</th>\n",
       "      <td>3113</td>\n",
       "      <td>09:00</td>\n",
       "      <td>14:20</td>\n",
       "      <td>Go Air</td>\n",
       "      <td>E</td>\n",
       "      <td>New Delhi</td>\n",
       "      <td>1</td>\n",
       "      <td>Mumbai</td>\n",
       "      <td>1</td>\n",
       "      <td>320</td>\n",
       "      <td>5</td>\n",
       "      <td>9</td>\n",
       "      <td>Morning_flight</td>\n",
       "      <td>6</td>\n",
       "    </tr>\n",
       "  </tbody>\n",
       "</table>\n",
       "</div>"
      ],
      "text/plain": [
       "   Price departure_time arrival_time  Airline Cabin  Dept_city  Dept_date  \\\n",
       "0   3112          14:30        20:20  AirAsia     E  New Delhi          1   \n",
       "1   3113          16:55        21:10   Go Air     E  New Delhi          1   \n",
       "2   3113          16:45        21:05   Go Air     E  New Delhi          1   \n",
       "3   3113          07:55        13:00   Go Air     E  New Delhi          1   \n",
       "4   3113          09:00        14:20   Go Air     E  New Delhi          1   \n",
       "\n",
       "  arrival_city  stops  duration  weekday  dept_hours Dept_flights_time  \\\n",
       "0      Mumbai       1       350        5          14  Afternoon_flight   \n",
       "1      Mumbai       1       255        5          16    Evening_flight   \n",
       "2      Mumbai       1       260        5          16    Evening_flight   \n",
       "3      Mumbai       1       305        5           7    Morning_flight   \n",
       "4      Mumbai       1       320        5           9    Morning_flight   \n",
       "\n",
       "   optimal_hours  \n",
       "0             11  \n",
       "1             13  \n",
       "2             13  \n",
       "3              4  \n",
       "4              6  "
      ]
     },
     "execution_count": 16,
     "metadata": {},
     "output_type": "execute_result"
    }
   ],
   "source": [
    "data.head()"
   ]
  },
  {
   "cell_type": "code",
   "execution_count": 17,
   "metadata": {
    "id": "rKm5X1RRMcPT"
   },
   "outputs": [],
   "source": [
    "# from datetime import datetime, timedelta\n",
    "# data['departure_time'] = pd.to_datetime(data['departure_time']).apply(lambda x: timedelta(hours=x.time().hour, minutes=x.time().minute))\n",
    "\n",
    "# data['arrival_time'] = pd.to_datetime(data['arrival_time']).apply(lambda x: timedelta(hours=x.time().hour, minutes=x.time().minute))\n",
    "\n",
    "# data['time_diff'] = data['arrival_time']-data['departure_time']"
   ]
  },
  {
   "cell_type": "code",
   "execution_count": 18,
   "metadata": {
    "colab": {
     "base_uri": "https://localhost:8080/",
     "height": 270
    },
    "id": "3f-m8LJL1prq",
    "outputId": "cd38d874-b964-4e35-8796-3ab80b6adf92"
   },
   "outputs": [
    {
     "data": {
      "text/html": [
       "<div>\n",
       "<style scoped>\n",
       "    .dataframe tbody tr th:only-of-type {\n",
       "        vertical-align: middle;\n",
       "    }\n",
       "\n",
       "    .dataframe tbody tr th {\n",
       "        vertical-align: top;\n",
       "    }\n",
       "\n",
       "    .dataframe thead th {\n",
       "        text-align: right;\n",
       "    }\n",
       "</style>\n",
       "<table border=\"1\" class=\"dataframe\">\n",
       "  <thead>\n",
       "    <tr style=\"text-align: right;\">\n",
       "      <th></th>\n",
       "      <th>Price</th>\n",
       "      <th>departure_time</th>\n",
       "      <th>arrival_time</th>\n",
       "      <th>Airline</th>\n",
       "      <th>Cabin</th>\n",
       "      <th>Dept_city</th>\n",
       "      <th>Dept_date</th>\n",
       "      <th>arrival_city</th>\n",
       "      <th>stops</th>\n",
       "      <th>duration</th>\n",
       "      <th>weekday</th>\n",
       "      <th>dept_hours</th>\n",
       "      <th>Dept_flights_time</th>\n",
       "      <th>optimal_hours</th>\n",
       "    </tr>\n",
       "  </thead>\n",
       "  <tbody>\n",
       "    <tr>\n",
       "      <th>0</th>\n",
       "      <td>3112</td>\n",
       "      <td>14:30</td>\n",
       "      <td>20:20</td>\n",
       "      <td>AirAsia</td>\n",
       "      <td>E</td>\n",
       "      <td>New Delhi</td>\n",
       "      <td>1</td>\n",
       "      <td>Mumbai</td>\n",
       "      <td>1</td>\n",
       "      <td>350</td>\n",
       "      <td>5</td>\n",
       "      <td>14</td>\n",
       "      <td>Afternoon_flight</td>\n",
       "      <td>11</td>\n",
       "    </tr>\n",
       "    <tr>\n",
       "      <th>1</th>\n",
       "      <td>3113</td>\n",
       "      <td>16:55</td>\n",
       "      <td>21:10</td>\n",
       "      <td>Go Air</td>\n",
       "      <td>E</td>\n",
       "      <td>New Delhi</td>\n",
       "      <td>1</td>\n",
       "      <td>Mumbai</td>\n",
       "      <td>1</td>\n",
       "      <td>255</td>\n",
       "      <td>5</td>\n",
       "      <td>16</td>\n",
       "      <td>Evening_flight</td>\n",
       "      <td>13</td>\n",
       "    </tr>\n",
       "    <tr>\n",
       "      <th>2</th>\n",
       "      <td>3113</td>\n",
       "      <td>16:45</td>\n",
       "      <td>21:05</td>\n",
       "      <td>Go Air</td>\n",
       "      <td>E</td>\n",
       "      <td>New Delhi</td>\n",
       "      <td>1</td>\n",
       "      <td>Mumbai</td>\n",
       "      <td>1</td>\n",
       "      <td>260</td>\n",
       "      <td>5</td>\n",
       "      <td>16</td>\n",
       "      <td>Evening_flight</td>\n",
       "      <td>13</td>\n",
       "    </tr>\n",
       "    <tr>\n",
       "      <th>3</th>\n",
       "      <td>3113</td>\n",
       "      <td>07:55</td>\n",
       "      <td>13:00</td>\n",
       "      <td>Go Air</td>\n",
       "      <td>E</td>\n",
       "      <td>New Delhi</td>\n",
       "      <td>1</td>\n",
       "      <td>Mumbai</td>\n",
       "      <td>1</td>\n",
       "      <td>305</td>\n",
       "      <td>5</td>\n",
       "      <td>7</td>\n",
       "      <td>Morning_flight</td>\n",
       "      <td>4</td>\n",
       "    </tr>\n",
       "    <tr>\n",
       "      <th>4</th>\n",
       "      <td>3113</td>\n",
       "      <td>09:00</td>\n",
       "      <td>14:20</td>\n",
       "      <td>Go Air</td>\n",
       "      <td>E</td>\n",
       "      <td>New Delhi</td>\n",
       "      <td>1</td>\n",
       "      <td>Mumbai</td>\n",
       "      <td>1</td>\n",
       "      <td>320</td>\n",
       "      <td>5</td>\n",
       "      <td>9</td>\n",
       "      <td>Morning_flight</td>\n",
       "      <td>6</td>\n",
       "    </tr>\n",
       "  </tbody>\n",
       "</table>\n",
       "</div>"
      ],
      "text/plain": [
       "   Price departure_time arrival_time  Airline Cabin  Dept_city  Dept_date  \\\n",
       "0   3112          14:30        20:20  AirAsia     E  New Delhi          1   \n",
       "1   3113          16:55        21:10   Go Air     E  New Delhi          1   \n",
       "2   3113          16:45        21:05   Go Air     E  New Delhi          1   \n",
       "3   3113          07:55        13:00   Go Air     E  New Delhi          1   \n",
       "4   3113          09:00        14:20   Go Air     E  New Delhi          1   \n",
       "\n",
       "  arrival_city  stops  duration  weekday  dept_hours Dept_flights_time  \\\n",
       "0      Mumbai       1       350        5          14  Afternoon_flight   \n",
       "1      Mumbai       1       255        5          16    Evening_flight   \n",
       "2      Mumbai       1       260        5          16    Evening_flight   \n",
       "3      Mumbai       1       305        5           7    Morning_flight   \n",
       "4      Mumbai       1       320        5           9    Morning_flight   \n",
       "\n",
       "   optimal_hours  \n",
       "0             11  \n",
       "1             13  \n",
       "2             13  \n",
       "3              4  \n",
       "4              6  "
      ]
     },
     "execution_count": 18,
     "metadata": {},
     "output_type": "execute_result"
    }
   ],
   "source": [
    "data.head(5)"
   ]
  },
  {
   "cell_type": "code",
   "execution_count": 19,
   "metadata": {
    "colab": {
     "base_uri": "https://localhost:8080/"
    },
    "id": "7YJFK9SYSySv",
    "outputId": "28a8d377-8215-4cfd-ff75-1812db3e7d6f"
   },
   "outputs": [
    {
     "data": {
      "text/plain": [
       "Price                 int64\n",
       "departure_time       object\n",
       "arrival_time         object\n",
       "Airline              object\n",
       "Cabin                object\n",
       "Dept_city            object\n",
       "Dept_date             int64\n",
       "arrival_city         object\n",
       "stops                 int64\n",
       "duration              int64\n",
       "weekday               int64\n",
       "dept_hours            int64\n",
       "Dept_flights_time    object\n",
       "optimal_hours         int64\n",
       "dtype: object"
      ]
     },
     "execution_count": 19,
     "metadata": {},
     "output_type": "execute_result"
    }
   ],
   "source": [
    "data.dtypes"
   ]
  },
  {
   "cell_type": "code",
   "execution_count": 20,
   "metadata": {
    "colab": {
     "base_uri": "https://localhost:8080/"
    },
    "id": "zJ8EU-8dSz2k",
    "outputId": "138feb06-19fa-418d-f32f-4e5987e59284"
   },
   "outputs": [
    {
     "data": {
      "text/plain": [
       "Price                16283\n",
       "departure_time         248\n",
       "arrival_time           256\n",
       "Airline                 44\n",
       "Cabin                    3\n",
       "Dept_city               30\n",
       "Dept_date               31\n",
       "arrival_city            30\n",
       "stops                    7\n",
       "duration               288\n",
       "weekday                  7\n",
       "dept_hours              24\n",
       "Dept_flights_time        4\n",
       "optimal_hours           24\n",
       "dtype: int64"
      ]
     },
     "execution_count": 20,
     "metadata": {},
     "output_type": "execute_result"
    }
   ],
   "source": [
    "data.nunique()"
   ]
  },
  {
   "cell_type": "code",
   "execution_count": 21,
   "metadata": {
    "colab": {
     "base_uri": "https://localhost:8080/",
     "height": 284
    },
    "id": "oBrUwbZqTSxV",
    "outputId": "208d7080-32aa-4c56-a4a0-931b1d4382cc"
   },
   "outputs": [
    {
     "data": {
      "text/plain": [
       "<AxesSubplot:>"
      ]
     },
     "execution_count": 21,
     "metadata": {},
     "output_type": "execute_result"
    },
    {
     "data": {
      "image/png": "[encoded data removed]",
      "text/plain": [
       "<Figure size 432x288 with 1 Axes>"
      ]
     },
     "metadata": {
      "needs_background": "light"
     },
     "output_type": "display_data"
    }
   ],
   "source": [
    "# handling Outlier\n",
    "data.boxplot(column=['Price'])"
   ]
  },
  {
   "cell_type": "code",
   "execution_count": 22,
   "metadata": {
    "colab": {
     "base_uri": "https://localhost:8080/",
     "height": 284
    },
    "id": "XiAxC036VibZ",
    "outputId": "dd44b606-b7d2-4979-a07a-d4553a29218a"
   },
   "outputs": [
    {
     "data": {
      "text/plain": [
       "<AxesSubplot:ylabel='Price'>"
      ]
     },
     "execution_count": 22,
     "metadata": {},
     "output_type": "execute_result"
    },
    {
     "data": {
      "image/png": "[encoded data removed]",
      "text/plain": [
       "<Figure size 432x288 with 1 Axes>"
      ]
     },
     "metadata": {
      "needs_background": "light"
     },
     "output_type": "display_data"
    }
   ],
   "source": [
    "sns.scatterplot(data=data, x=data.index, y=\"Price\")"
   ]
  },
  {
   "cell_type": "code",
   "execution_count": 23,
   "metadata": {
    "colab": {
     "base_uri": "https://localhost:8080/",
     "height": 284
    },
    "id": "ycN2pdPNBLlz",
    "outputId": "efdbceca-8618-4de2-997d-c03971174c70"
   },
   "outputs": [
    {
     "data": {
      "text/plain": [
       "<AxesSubplot:ylabel='Price'>"
      ]
     },
     "execution_count": 23,
     "metadata": {},
     "output_type": "execute_result"
    },
    {
     "data": {
      "image/png": "[encoded data removed]",
      "text/plain": [
       "<Figure size 432x288 with 1 Axes>"
      ]
     },
     "metadata": {
      "needs_background": "light"
     },
     "output_type": "display_data"
    }
   ],
   "source": [
    "sns.scatterplot(data=data, x=data.index, y=\"Price\")"
   ]
  },
  {
   "cell_type": "code",
   "execution_count": 24,
   "metadata": {
    "colab": {
     "base_uri": "https://localhost:8080/",
     "height": 473
    },
    "id": "GJYhTxrLBUqs",
    "outputId": "9d844b0d-f164-410e-bd0a-f0d0d736e259"
   },
   "outputs": [
    {
     "data": {
      "text/plain": [
       "350     2939\n",
       "420     2661\n",
       "400     2620\n",
       "330     2606\n",
       "75      2603\n",
       "        ... \n",
       "10       364\n",
       "215      350\n",
       "35       350\n",
       "1395     345\n",
       "1430     336\n",
       "Name: duration, Length: 288, dtype: int64"
      ]
     },
     "execution_count": 24,
     "metadata": {},
     "output_type": "execute_result"
    },
    {
     "data": {
      "image/png": "[encoded data removed]",
      "text/plain": [
       "<Figure size 432x288 with 1 Axes>"
      ]
     },
     "metadata": {
      "needs_background": "light"
     },
     "output_type": "display_data"
    }
   ],
   "source": [
    "sns.scatterplot(data=data, x=data.index, y=\"duration\")\n",
    "data['duration'].value_counts()"
   ]
  },
  {
   "cell_type": "code",
   "execution_count": 25,
   "metadata": {
    "colab": {
     "base_uri": "https://localhost:8080/"
    },
    "id": "olLYAPq-WVvW",
    "outputId": "ecab92fa-4c91-45cc-fde6-13bdb93b3994"
   },
   "outputs": [
    {
     "data": {
      "text/plain": [
       "0.004232471521513049"
      ]
     },
     "execution_count": 25,
     "metadata": {},
     "output_type": "execute_result"
    }
   ],
   "source": [
    "data.loc[data['Price']>100000].shape[0] /len(data) *100"
   ]
  },
  {
   "cell_type": "code",
   "execution_count": 26,
   "metadata": {
    "id": "atroCd6yWox1"
   },
   "outputs": [],
   "source": [
    "percentile_995 = np.quantile(data['Price'],0.995)\n",
    "data.loc[data['Price']>percentile_995,'Price'] = percentile_995"
   ]
  },
  {
   "cell_type": "code",
   "execution_count": 27,
   "metadata": {
    "colab": {
     "base_uri": "https://localhost:8080/",
     "height": 282
    },
    "id": "_6woWL28AjPn",
    "outputId": "67237869-e244-4d99-ee0c-4f39f4e73a86"
   },
   "outputs": [
    {
     "data": {
      "text/plain": [
       "<AxesSubplot:ylabel='Price'>"
      ]
     },
     "execution_count": 27,
     "metadata": {},
     "output_type": "execute_result"
    },
    {
     "data": {
      "image/png": "[encoded data removed]",
      "text/plain": [
       "<Figure size 432x288 with 1 Axes>"
      ]
     },
     "metadata": {
      "needs_background": "light"
     },
     "output_type": "display_data"
    }
   ],
   "source": [
    "sns.scatterplot(data=data, x=data.index, y=\"Price\")"
   ]
  },
  {
   "cell_type": "code",
   "execution_count": 28,
   "metadata": {
    "colab": {
     "base_uri": "https://localhost:8080/"
    },
    "id": "YsTiNjEHFGf1",
    "outputId": "3c814857-1f36-42be-b992-eb9ff637f657"
   },
   "outputs": [
    {
     "data": {
      "text/plain": [
       "Price                 int64\n",
       "departure_time       object\n",
       "arrival_time         object\n",
       "Airline              object\n",
       "Cabin                object\n",
       "Dept_city            object\n",
       "Dept_date             int64\n",
       "arrival_city         object\n",
       "stops                 int64\n",
       "duration              int64\n",
       "weekday               int64\n",
       "dept_hours            int64\n",
       "Dept_flights_time    object\n",
       "optimal_hours         int64\n",
       "dtype: object"
      ]
     },
     "execution_count": 28,
     "metadata": {},
     "output_type": "execute_result"
    }
   ],
   "source": [
    "data.dtypes"
   ]
  },
  {
   "cell_type": "code",
   "execution_count": 29,
   "metadata": {
    "colab": {
     "base_uri": "https://localhost:8080/"
    },
    "id": "kh1Ecgv6FRe1",
    "outputId": "4d6062dc-d341-406e-dc7d-53e9560e18c7"
   },
   "outputs": [
    {
     "data": {
      "text/plain": [
       "Air India              111779\n",
       "IndiGo                  88266\n",
       "Spicejet                26657\n",
       "Go Air                  25835\n",
       "Vistara                 14426\n",
       "AirAsia                 13729\n",
       "IndiGo, Air India        5012\n",
       "Air India, IndiGo        4861\n",
       "IndiGo, Go Air           4513\n",
       "Vistara, Air India       3763\n",
       "Spicejet, IndiGo         3672\n",
       "Go Air, IndiGo           3556\n",
       "IndiGo, Spicejet         3186\n",
       "IndiGo, AirAsia          2728\n",
       "AirAsia, IndiGo          2261\n",
       "Air India, Go Air        2257\n",
       "Air India, Vistara       1709\n",
       "Vistara, IndiGo          1508\n",
       "Go Air, Air India        1496\n",
       "IndiGo, Vistara          1157\n",
       "Vistara, Go Air           908\n",
       "Spicejet, Air India       819\n",
       "Air India, Spicejet       763\n",
       "AirAsia, Air India        762\n",
       "Air India, AirAsia        761\n",
       "AirAsia, Go Air           732\n",
       "Spicejet, Go Air          689\n",
       "Spicejet, AirAsia         550\n",
       "Go Air, Spicejet          464\n",
       "AirAsia, Spicejet         379\n",
       "Go Air, Vistara           376\n",
       "Go Air, AirAsia           304\n",
       "Vistara, AirAsia          284\n",
       "Spicejet, Vistara         236\n",
       "Vistara, Spicejet         234\n",
       "AirAsia, Vistara           73\n",
       "flybig, IndiGo             23\n",
       "flybig, Air India          15\n",
       "flybig, Go Air             14\n",
       "flybig, Spicejet            9\n",
       "TruJet, Vistara             5\n",
       "TruJet, IndiGo              3\n",
       "IndiGo, TruJet              1\n",
       "TruJet, Air India           1\n",
       "Name: Airline, dtype: int64"
      ]
     },
     "execution_count": 29,
     "metadata": {},
     "output_type": "execute_result"
    }
   ],
   "source": [
    "data['Airline'].value_counts()"
   ]
  },
  {
   "cell_type": "code",
   "execution_count": 30,
   "metadata": {},
   "outputs": [],
   "source": [
    "data['dept_airline'] = data['Airline'].str.strip().str.split(',').str[0]"
   ]
  },
  {
   "cell_type": "code",
   "execution_count": 31,
   "metadata": {},
   "outputs": [],
   "source": [
    "data['arrival_airline'] = np.where(data['Airline'].str.strip().str.split(',').str[1].isnull(), data['Airline'].str.strip().str.split(',').str[0], data['Airline'].str.strip().str.split(',').str[1].str.strip())"
   ]
  },
  {
   "cell_type": "code",
   "execution_count": 32,
   "metadata": {},
   "outputs": [],
   "source": [
    "data.drop(labels='Airline', axis=1, inplace=True)"
   ]
  },
  {
   "cell_type": "markdown",
   "metadata": {
    "id": "RE7InwM-FuXp"
   },
   "source": [
    "# ENCODING CATAGORICAL VARIABLES"
   ]
  },
  {
   "cell_type": "code",
   "execution_count": 33,
   "metadata": {
    "id": "kc3EdJ6bF07K"
   },
   "outputs": [],
   "source": [
    "# ON COLUMN AIRLINE WE CAN  APPLY LABEL ENCODING"
   ]
  },
  {
   "cell_type": "code",
   "execution_count": 34,
   "metadata": {},
   "outputs": [],
   "source": [
    "labelencoder = LabelEncoder()\n",
    "data['dept_airline'] = labelencoder.fit_transform(data['dept_airline'])"
   ]
  },
  {
   "cell_type": "code",
   "execution_count": 35,
   "metadata": {},
   "outputs": [],
   "source": [
    "pd.DataFrame(zip(labelencoder.classes_,range(len(labelencoder.classes_)))).to_csv('dept_airline_map.csv')"
   ]
  },
  {
   "cell_type": "code",
   "execution_count": 36,
   "metadata": {},
   "outputs": [],
   "source": [
    "data['arrival_airline'] = labelencoder.fit_transform(data['arrival_airline'])"
   ]
  },
  {
   "cell_type": "code",
   "execution_count": 37,
   "metadata": {},
   "outputs": [],
   "source": [
    "pd.DataFrame(zip(labelencoder.classes_,range(len(labelencoder.classes_)))).to_csv('arrival_airline_map.csv')"
   ]
  },
  {
   "cell_type": "code",
   "execution_count": 38,
   "metadata": {
    "id": "xwmQg-ZsGUCk"
   },
   "outputs": [],
   "source": [
    "labelencoder = LabelEncoder()\n",
    "data['Dept_city'] = labelencoder.fit_transform(data['Dept_city'])\n",
    "pd.DataFrame(zip(labelencoder.classes_,range(len(labelencoder.classes_)))).to_csv('dept_city_map.csv')\n",
    "data['arrival_city'] = labelencoder.fit_transform(data['arrival_city'])\n",
    "pd.DataFrame(zip(labelencoder.classes_,range(len(labelencoder.classes_)))).to_csv('arrival_city_map.csv')"
   ]
  },
  {
   "cell_type": "code",
   "execution_count": 39,
   "metadata": {
    "colab": {
     "base_uri": "https://localhost:8080/"
    },
    "id": "FBxu8WW1HgZg",
    "outputId": "0bd93081-e74d-46c3-cdfe-c405790aa852"
   },
   "outputs": [
    {
     "data": {
      "text/plain": [
       "Price                 int64\n",
       "departure_time       object\n",
       "arrival_time         object\n",
       "Cabin                object\n",
       "Dept_city             int32\n",
       "Dept_date             int64\n",
       "arrival_city          int32\n",
       "stops                 int64\n",
       "duration              int64\n",
       "weekday               int64\n",
       "dept_hours            int64\n",
       "Dept_flights_time    object\n",
       "optimal_hours         int64\n",
       "dept_airline          int32\n",
       "arrival_airline       int32\n",
       "dtype: object"
      ]
     },
     "execution_count": 39,
     "metadata": {},
     "output_type": "execute_result"
    }
   ],
   "source": [
    "data.dtypes"
   ]
  },
  {
   "cell_type": "code",
   "execution_count": 40,
   "metadata": {
    "colab": {
     "base_uri": "https://localhost:8080/",
     "height": 270
    },
    "id": "nRvwDBl6KLt2",
    "outputId": "3e104641-af30-473c-a952-f6a7bcb6c86d"
   },
   "outputs": [
    {
     "data": {
      "text/html": [
       "<div>\n",
       "<style scoped>\n",
       "    .dataframe tbody tr th:only-of-type {\n",
       "        vertical-align: middle;\n",
       "    }\n",
       "\n",
       "    .dataframe tbody tr th {\n",
       "        vertical-align: top;\n",
       "    }\n",
       "\n",
       "    .dataframe thead th {\n",
       "        text-align: right;\n",
       "    }\n",
       "</style>\n",
       "<table border=\"1\" class=\"dataframe\">\n",
       "  <thead>\n",
       "    <tr style=\"text-align: right;\">\n",
       "      <th></th>\n",
       "      <th>Price</th>\n",
       "      <th>departure_time</th>\n",
       "      <th>arrival_time</th>\n",
       "      <th>Cabin</th>\n",
       "      <th>Dept_city</th>\n",
       "      <th>Dept_date</th>\n",
       "      <th>arrival_city</th>\n",
       "      <th>stops</th>\n",
       "      <th>duration</th>\n",
       "      <th>weekday</th>\n",
       "      <th>dept_hours</th>\n",
       "      <th>Dept_flights_time</th>\n",
       "      <th>optimal_hours</th>\n",
       "      <th>dept_airline</th>\n",
       "      <th>arrival_airline</th>\n",
       "    </tr>\n",
       "  </thead>\n",
       "  <tbody>\n",
       "    <tr>\n",
       "      <th>0</th>\n",
       "      <td>3112</td>\n",
       "      <td>14:30</td>\n",
       "      <td>20:20</td>\n",
       "      <td>E</td>\n",
       "      <td>19</td>\n",
       "      <td>1</td>\n",
       "      <td>17</td>\n",
       "      <td>1</td>\n",
       "      <td>350</td>\n",
       "      <td>5</td>\n",
       "      <td>14</td>\n",
       "      <td>Afternoon_flight</td>\n",
       "      <td>11</td>\n",
       "      <td>1</td>\n",
       "      <td>1</td>\n",
       "    </tr>\n",
       "    <tr>\n",
       "      <th>1</th>\n",
       "      <td>3113</td>\n",
       "      <td>16:55</td>\n",
       "      <td>21:10</td>\n",
       "      <td>E</td>\n",
       "      <td>19</td>\n",
       "      <td>1</td>\n",
       "      <td>17</td>\n",
       "      <td>1</td>\n",
       "      <td>255</td>\n",
       "      <td>5</td>\n",
       "      <td>16</td>\n",
       "      <td>Evening_flight</td>\n",
       "      <td>13</td>\n",
       "      <td>2</td>\n",
       "      <td>2</td>\n",
       "    </tr>\n",
       "    <tr>\n",
       "      <th>2</th>\n",
       "      <td>3113</td>\n",
       "      <td>16:45</td>\n",
       "      <td>21:05</td>\n",
       "      <td>E</td>\n",
       "      <td>19</td>\n",
       "      <td>1</td>\n",
       "      <td>17</td>\n",
       "      <td>1</td>\n",
       "      <td>260</td>\n",
       "      <td>5</td>\n",
       "      <td>16</td>\n",
       "      <td>Evening_flight</td>\n",
       "      <td>13</td>\n",
       "      <td>2</td>\n",
       "      <td>2</td>\n",
       "    </tr>\n",
       "    <tr>\n",
       "      <th>3</th>\n",
       "      <td>3113</td>\n",
       "      <td>07:55</td>\n",
       "      <td>13:00</td>\n",
       "      <td>E</td>\n",
       "      <td>19</td>\n",
       "      <td>1</td>\n",
       "      <td>17</td>\n",
       "      <td>1</td>\n",
       "      <td>305</td>\n",
       "      <td>5</td>\n",
       "      <td>7</td>\n",
       "      <td>Morning_flight</td>\n",
       "      <td>4</td>\n",
       "      <td>2</td>\n",
       "      <td>2</td>\n",
       "    </tr>\n",
       "    <tr>\n",
       "      <th>4</th>\n",
       "      <td>3113</td>\n",
       "      <td>09:00</td>\n",
       "      <td>14:20</td>\n",
       "      <td>E</td>\n",
       "      <td>19</td>\n",
       "      <td>1</td>\n",
       "      <td>17</td>\n",
       "      <td>1</td>\n",
       "      <td>320</td>\n",
       "      <td>5</td>\n",
       "      <td>9</td>\n",
       "      <td>Morning_flight</td>\n",
       "      <td>6</td>\n",
       "      <td>2</td>\n",
       "      <td>2</td>\n",
       "    </tr>\n",
       "  </tbody>\n",
       "</table>\n",
       "</div>"
      ],
      "text/plain": [
       "   Price departure_time arrival_time Cabin  Dept_city  Dept_date  \\\n",
       "0   3112          14:30        20:20     E         19          1   \n",
       "1   3113          16:55        21:10     E         19          1   \n",
       "2   3113          16:45        21:05     E         19          1   \n",
       "3   3113          07:55        13:00     E         19          1   \n",
       "4   3113          09:00        14:20     E         19          1   \n",
       "\n",
       "   arrival_city  stops  duration  weekday  dept_hours Dept_flights_time  \\\n",
       "0            17      1       350        5          14  Afternoon_flight   \n",
       "1            17      1       255        5          16    Evening_flight   \n",
       "2            17      1       260        5          16    Evening_flight   \n",
       "3            17      1       305        5           7    Morning_flight   \n",
       "4            17      1       320        5           9    Morning_flight   \n",
       "\n",
       "   optimal_hours  dept_airline  arrival_airline  \n",
       "0             11             1                1  \n",
       "1             13             2                2  \n",
       "2             13             2                2  \n",
       "3              4             2                2  \n",
       "4              6             2                2  "
      ]
     },
     "execution_count": 40,
     "metadata": {},
     "output_type": "execute_result"
    }
   ],
   "source": [
    "data.head(5)"
   ]
  },
  {
   "cell_type": "code",
   "execution_count": 41,
   "metadata": {
    "colab": {
     "base_uri": "https://localhost:8080/"
    },
    "id": "GJtNaKXvHy-V",
    "outputId": "b4d4d19a-86a4-45f2-bff0-214337731fca"
   },
   "outputs": [
    {
     "data": {
      "text/plain": [
       "E     254928\n",
       "B      62709\n",
       "PE     13139\n",
       "Name: Cabin, dtype: int64"
      ]
     },
     "execution_count": 41,
     "metadata": {},
     "output_type": "execute_result"
    }
   ],
   "source": [
    "data['Cabin'].value_counts()\n",
    "# data['Dept_flights_time'].value_counts()\n"
   ]
  },
  {
   "cell_type": "code",
   "execution_count": 42,
   "metadata": {
    "id": "w41t_ntgH_RD"
   },
   "outputs": [],
   "source": [
    "# onehotencoding preferrable\n",
    "# cabin , Dept_flights_time \n",
    "cabin = pd.get_dummies(data['Cabin'])\n",
    "dept_flights_time  = pd.get_dummies(data['Dept_flights_time'])"
   ]
  },
  {
   "cell_type": "code",
   "execution_count": 43,
   "metadata": {
    "id": "-zgPJPZoIP-R"
   },
   "outputs": [],
   "source": [
    "data = pd.concat([data,cabin,dept_flights_time],axis=1)\n",
    "data.drop(['Cabin','Dept_flights_time'],axis=1, inplace = True )"
   ]
  },
  {
   "cell_type": "code",
   "execution_count": 44,
   "metadata": {
    "colab": {
     "base_uri": "https://localhost:8080/"
    },
    "id": "_WsIBz2UMXxT",
    "outputId": "8a0cf12b-13a6-4524-d1cf-290912ccc802"
   },
   "outputs": [
    {
     "data": {
      "text/plain": [
       "Price                int64\n",
       "departure_time      object\n",
       "arrival_time        object\n",
       "Dept_city            int32\n",
       "Dept_date            int64\n",
       "arrival_city         int32\n",
       "stops                int64\n",
       "duration             int64\n",
       "weekday              int64\n",
       "dept_hours           int64\n",
       "optimal_hours        int64\n",
       "dept_airline         int32\n",
       "arrival_airline      int32\n",
       "B                    uint8\n",
       "E                    uint8\n",
       "PE                   uint8\n",
       "Afternoon_flight     uint8\n",
       "Evening_flight       uint8\n",
       "Morning_flight       uint8\n",
       "Night_flight         uint8\n",
       "dtype: object"
      ]
     },
     "execution_count": 44,
     "metadata": {},
     "output_type": "execute_result"
    }
   ],
   "source": [
    "data.dtypes"
   ]
  },
  {
   "cell_type": "code",
   "execution_count": 45,
   "metadata": {
    "colab": {
     "base_uri": "https://localhost:8080/",
     "height": 270
    },
    "id": "WgYUCDC6MeHP",
    "outputId": "184e003a-f60b-4b73-b6bd-d35b66f6c52f"
   },
   "outputs": [
    {
     "data": {
      "text/html": [
       "<div>\n",
       "<style scoped>\n",
       "    .dataframe tbody tr th:only-of-type {\n",
       "        vertical-align: middle;\n",
       "    }\n",
       "\n",
       "    .dataframe tbody tr th {\n",
       "        vertical-align: top;\n",
       "    }\n",
       "\n",
       "    .dataframe thead th {\n",
       "        text-align: right;\n",
       "    }\n",
       "</style>\n",
       "<table border=\"1\" class=\"dataframe\">\n",
       "  <thead>\n",
       "    <tr style=\"text-align: right;\">\n",
       "      <th></th>\n",
       "      <th>Price</th>\n",
       "      <th>departure_time</th>\n",
       "      <th>arrival_time</th>\n",
       "      <th>Dept_city</th>\n",
       "      <th>Dept_date</th>\n",
       "      <th>arrival_city</th>\n",
       "      <th>stops</th>\n",
       "      <th>duration</th>\n",
       "      <th>weekday</th>\n",
       "      <th>dept_hours</th>\n",
       "      <th>optimal_hours</th>\n",
       "      <th>dept_airline</th>\n",
       "      <th>arrival_airline</th>\n",
       "      <th>B</th>\n",
       "      <th>E</th>\n",
       "      <th>PE</th>\n",
       "      <th>Afternoon_flight</th>\n",
       "      <th>Evening_flight</th>\n",
       "      <th>Morning_flight</th>\n",
       "      <th>Night_flight</th>\n",
       "    </tr>\n",
       "  </thead>\n",
       "  <tbody>\n",
       "    <tr>\n",
       "      <th>0</th>\n",
       "      <td>3112</td>\n",
       "      <td>14:30</td>\n",
       "      <td>20:20</td>\n",
       "      <td>19</td>\n",
       "      <td>1</td>\n",
       "      <td>17</td>\n",
       "      <td>1</td>\n",
       "      <td>350</td>\n",
       "      <td>5</td>\n",
       "      <td>14</td>\n",
       "      <td>11</td>\n",
       "      <td>1</td>\n",
       "      <td>1</td>\n",
       "      <td>0</td>\n",
       "      <td>1</td>\n",
       "      <td>0</td>\n",
       "      <td>1</td>\n",
       "      <td>0</td>\n",
       "      <td>0</td>\n",
       "      <td>0</td>\n",
       "    </tr>\n",
       "    <tr>\n",
       "      <th>1</th>\n",
       "      <td>3113</td>\n",
       "      <td>16:55</td>\n",
       "      <td>21:10</td>\n",
       "      <td>19</td>\n",
       "      <td>1</td>\n",
       "      <td>17</td>\n",
       "      <td>1</td>\n",
       "      <td>255</td>\n",
       "      <td>5</td>\n",
       "      <td>16</td>\n",
       "      <td>13</td>\n",
       "      <td>2</td>\n",
       "      <td>2</td>\n",
       "      <td>0</td>\n",
       "      <td>1</td>\n",
       "      <td>0</td>\n",
       "      <td>0</td>\n",
       "      <td>1</td>\n",
       "      <td>0</td>\n",
       "      <td>0</td>\n",
       "    </tr>\n",
       "    <tr>\n",
       "      <th>2</th>\n",
       "      <td>3113</td>\n",
       "      <td>16:45</td>\n",
       "      <td>21:05</td>\n",
       "      <td>19</td>\n",
       "      <td>1</td>\n",
       "      <td>17</td>\n",
       "      <td>1</td>\n",
       "      <td>260</td>\n",
       "      <td>5</td>\n",
       "      <td>16</td>\n",
       "      <td>13</td>\n",
       "      <td>2</td>\n",
       "      <td>2</td>\n",
       "      <td>0</td>\n",
       "      <td>1</td>\n",
       "      <td>0</td>\n",
       "      <td>0</td>\n",
       "      <td>1</td>\n",
       "      <td>0</td>\n",
       "      <td>0</td>\n",
       "    </tr>\n",
       "    <tr>\n",
       "      <th>3</th>\n",
       "      <td>3113</td>\n",
       "      <td>07:55</td>\n",
       "      <td>13:00</td>\n",
       "      <td>19</td>\n",
       "      <td>1</td>\n",
       "      <td>17</td>\n",
       "      <td>1</td>\n",
       "      <td>305</td>\n",
       "      <td>5</td>\n",
       "      <td>7</td>\n",
       "      <td>4</td>\n",
       "      <td>2</td>\n",
       "      <td>2</td>\n",
       "      <td>0</td>\n",
       "      <td>1</td>\n",
       "      <td>0</td>\n",
       "      <td>0</td>\n",
       "      <td>0</td>\n",
       "      <td>1</td>\n",
       "      <td>0</td>\n",
       "    </tr>\n",
       "    <tr>\n",
       "      <th>4</th>\n",
       "      <td>3113</td>\n",
       "      <td>09:00</td>\n",
       "      <td>14:20</td>\n",
       "      <td>19</td>\n",
       "      <td>1</td>\n",
       "      <td>17</td>\n",
       "      <td>1</td>\n",
       "      <td>320</td>\n",
       "      <td>5</td>\n",
       "      <td>9</td>\n",
       "      <td>6</td>\n",
       "      <td>2</td>\n",
       "      <td>2</td>\n",
       "      <td>0</td>\n",
       "      <td>1</td>\n",
       "      <td>0</td>\n",
       "      <td>0</td>\n",
       "      <td>0</td>\n",
       "      <td>1</td>\n",
       "      <td>0</td>\n",
       "    </tr>\n",
       "  </tbody>\n",
       "</table>\n",
       "</div>"
      ],
      "text/plain": [
       "   Price departure_time arrival_time  Dept_city  Dept_date  arrival_city  \\\n",
       "0   3112          14:30        20:20         19          1            17   \n",
       "1   3113          16:55        21:10         19          1            17   \n",
       "2   3113          16:45        21:05         19          1            17   \n",
       "3   3113          07:55        13:00         19          1            17   \n",
       "4   3113          09:00        14:20         19          1            17   \n",
       "\n",
       "   stops  duration  weekday  dept_hours  optimal_hours  dept_airline  \\\n",
       "0      1       350        5          14             11             1   \n",
       "1      1       255        5          16             13             2   \n",
       "2      1       260        5          16             13             2   \n",
       "3      1       305        5           7              4             2   \n",
       "4      1       320        5           9              6             2   \n",
       "\n",
       "   arrival_airline  B  E  PE  Afternoon_flight  Evening_flight  \\\n",
       "0                1  0  1   0                 1               0   \n",
       "1                2  0  1   0                 0               1   \n",
       "2                2  0  1   0                 0               1   \n",
       "3                2  0  1   0                 0               0   \n",
       "4                2  0  1   0                 0               0   \n",
       "\n",
       "   Morning_flight  Night_flight  \n",
       "0               0             0  \n",
       "1               0             0  \n",
       "2               0             0  \n",
       "3               1             0  \n",
       "4               1             0  "
      ]
     },
     "execution_count": 45,
     "metadata": {},
     "output_type": "execute_result"
    }
   ],
   "source": [
    "# checking correlation using heat map\n",
    "data.head(5)"
   ]
  },
  {
   "cell_type": "code",
   "execution_count": 46,
   "metadata": {
    "colab": {
     "base_uri": "https://localhost:8080/",
     "height": 300
    },
    "id": "dHOcnI0VQRUb",
    "outputId": "68d66947-103a-4cb0-e5b0-73bca360135f"
   },
   "outputs": [
    {
     "data": {
      "text/html": [
       "<div>\n",
       "<style scoped>\n",
       "    .dataframe tbody tr th:only-of-type {\n",
       "        vertical-align: middle;\n",
       "    }\n",
       "\n",
       "    .dataframe tbody tr th {\n",
       "        vertical-align: top;\n",
       "    }\n",
       "\n",
       "    .dataframe thead th {\n",
       "        text-align: right;\n",
       "    }\n",
       "</style>\n",
       "<table border=\"1\" class=\"dataframe\">\n",
       "  <thead>\n",
       "    <tr style=\"text-align: right;\">\n",
       "      <th></th>\n",
       "      <th>Price</th>\n",
       "      <th>Dept_city</th>\n",
       "      <th>Dept_date</th>\n",
       "      <th>arrival_city</th>\n",
       "      <th>stops</th>\n",
       "      <th>duration</th>\n",
       "      <th>weekday</th>\n",
       "      <th>dept_hours</th>\n",
       "      <th>optimal_hours</th>\n",
       "      <th>dept_airline</th>\n",
       "      <th>arrival_airline</th>\n",
       "      <th>B</th>\n",
       "      <th>E</th>\n",
       "      <th>PE</th>\n",
       "      <th>Afternoon_flight</th>\n",
       "      <th>Evening_flight</th>\n",
       "      <th>Morning_flight</th>\n",
       "      <th>Night_flight</th>\n",
       "      <th>departure_minute</th>\n",
       "      <th>arrival_hour</th>\n",
       "      <th>arrival_minute</th>\n",
       "    </tr>\n",
       "  </thead>\n",
       "  <tbody>\n",
       "    <tr>\n",
       "      <th>0</th>\n",
       "      <td>3112</td>\n",
       "      <td>19</td>\n",
       "      <td>1</td>\n",
       "      <td>17</td>\n",
       "      <td>1</td>\n",
       "      <td>350</td>\n",
       "      <td>5</td>\n",
       "      <td>14</td>\n",
       "      <td>11</td>\n",
       "      <td>1</td>\n",
       "      <td>1</td>\n",
       "      <td>0</td>\n",
       "      <td>1</td>\n",
       "      <td>0</td>\n",
       "      <td>1</td>\n",
       "      <td>0</td>\n",
       "      <td>0</td>\n",
       "      <td>0</td>\n",
       "      <td>0.500000</td>\n",
       "      <td>20</td>\n",
       "      <td>0.333333</td>\n",
       "    </tr>\n",
       "    <tr>\n",
       "      <th>1</th>\n",
       "      <td>3113</td>\n",
       "      <td>19</td>\n",
       "      <td>1</td>\n",
       "      <td>17</td>\n",
       "      <td>1</td>\n",
       "      <td>255</td>\n",
       "      <td>5</td>\n",
       "      <td>16</td>\n",
       "      <td>13</td>\n",
       "      <td>2</td>\n",
       "      <td>2</td>\n",
       "      <td>0</td>\n",
       "      <td>1</td>\n",
       "      <td>0</td>\n",
       "      <td>0</td>\n",
       "      <td>1</td>\n",
       "      <td>0</td>\n",
       "      <td>0</td>\n",
       "      <td>0.916667</td>\n",
       "      <td>21</td>\n",
       "      <td>0.166667</td>\n",
       "    </tr>\n",
       "    <tr>\n",
       "      <th>2</th>\n",
       "      <td>3113</td>\n",
       "      <td>19</td>\n",
       "      <td>1</td>\n",
       "      <td>17</td>\n",
       "      <td>1</td>\n",
       "      <td>260</td>\n",
       "      <td>5</td>\n",
       "      <td>16</td>\n",
       "      <td>13</td>\n",
       "      <td>2</td>\n",
       "      <td>2</td>\n",
       "      <td>0</td>\n",
       "      <td>1</td>\n",
       "      <td>0</td>\n",
       "      <td>0</td>\n",
       "      <td>1</td>\n",
       "      <td>0</td>\n",
       "      <td>0</td>\n",
       "      <td>0.750000</td>\n",
       "      <td>21</td>\n",
       "      <td>0.083333</td>\n",
       "    </tr>\n",
       "    <tr>\n",
       "      <th>3</th>\n",
       "      <td>3113</td>\n",
       "      <td>19</td>\n",
       "      <td>1</td>\n",
       "      <td>17</td>\n",
       "      <td>1</td>\n",
       "      <td>305</td>\n",
       "      <td>5</td>\n",
       "      <td>7</td>\n",
       "      <td>4</td>\n",
       "      <td>2</td>\n",
       "      <td>2</td>\n",
       "      <td>0</td>\n",
       "      <td>1</td>\n",
       "      <td>0</td>\n",
       "      <td>0</td>\n",
       "      <td>0</td>\n",
       "      <td>1</td>\n",
       "      <td>0</td>\n",
       "      <td>0.916667</td>\n",
       "      <td>13</td>\n",
       "      <td>0.000000</td>\n",
       "    </tr>\n",
       "    <tr>\n",
       "      <th>4</th>\n",
       "      <td>3113</td>\n",
       "      <td>19</td>\n",
       "      <td>1</td>\n",
       "      <td>17</td>\n",
       "      <td>1</td>\n",
       "      <td>320</td>\n",
       "      <td>5</td>\n",
       "      <td>9</td>\n",
       "      <td>6</td>\n",
       "      <td>2</td>\n",
       "      <td>2</td>\n",
       "      <td>0</td>\n",
       "      <td>1</td>\n",
       "      <td>0</td>\n",
       "      <td>0</td>\n",
       "      <td>0</td>\n",
       "      <td>1</td>\n",
       "      <td>0</td>\n",
       "      <td>0.000000</td>\n",
       "      <td>14</td>\n",
       "      <td>0.333333</td>\n",
       "    </tr>\n",
       "  </tbody>\n",
       "</table>\n",
       "</div>"
      ],
      "text/plain": [
       "   Price  Dept_city  Dept_date  arrival_city  stops  duration  weekday  \\\n",
       "0   3112         19          1            17      1       350        5   \n",
       "1   3113         19          1            17      1       255        5   \n",
       "2   3113         19          1            17      1       260        5   \n",
       "3   3113         19          1            17      1       305        5   \n",
       "4   3113         19          1            17      1       320        5   \n",
       "\n",
       "   dept_hours  optimal_hours  dept_airline  arrival_airline  B  E  PE  \\\n",
       "0          14             11             1                1  0  1   0   \n",
       "1          16             13             2                2  0  1   0   \n",
       "2          16             13             2                2  0  1   0   \n",
       "3           7              4             2                2  0  1   0   \n",
       "4           9              6             2                2  0  1   0   \n",
       "\n",
       "   Afternoon_flight  Evening_flight  Morning_flight  Night_flight  \\\n",
       "0                 1               0               0             0   \n",
       "1                 0               1               0             0   \n",
       "2                 0               1               0             0   \n",
       "3                 0               0               1             0   \n",
       "4                 0               0               1             0   \n",
       "\n",
       "   departure_minute  arrival_hour  arrival_minute  \n",
       "0          0.500000            20        0.333333  \n",
       "1          0.916667            21        0.166667  \n",
       "2          0.750000            21        0.083333  \n",
       "3          0.916667            13        0.000000  \n",
       "4          0.000000            14        0.333333  "
      ]
     },
     "execution_count": 46,
     "metadata": {},
     "output_type": "execute_result"
    }
   ],
   "source": [
    "data.dtypes\n",
    "data['departure_minute'] = pd.to_datetime(data['departure_time']).dt.minute / 60\n",
    "data['arrival_hour'] = pd.to_datetime(data['arrival_time']).dt.hour \n",
    "data['arrival_minute'] = pd.to_datetime(data['arrival_time']).dt.minute / 60\n",
    "data.drop(['departure_time','arrival_time'],inplace =True ,axis=1)\n",
    "data.head(5)"
   ]
  },
  {
   "cell_type": "code",
   "execution_count": 47,
   "metadata": {
    "colab": {
     "base_uri": "https://localhost:8080/"
    },
    "id": "8BtWw6kuVfJ8",
    "outputId": "9d430ca8-3d7e-41c0-dc4e-f561e50e4255"
   },
   "outputs": [
    {
     "data": {
      "text/plain": [
       "Price                 int64\n",
       "Dept_city             int32\n",
       "Dept_date             int64\n",
       "arrival_city          int32\n",
       "stops                 int64\n",
       "duration              int64\n",
       "weekday               int64\n",
       "dept_hours            int64\n",
       "optimal_hours         int64\n",
       "dept_airline          int32\n",
       "arrival_airline       int32\n",
       "B                     uint8\n",
       "E                     uint8\n",
       "PE                    uint8\n",
       "Afternoon_flight      uint8\n",
       "Evening_flight        uint8\n",
       "Morning_flight        uint8\n",
       "Night_flight          uint8\n",
       "departure_minute    float64\n",
       "arrival_hour          int64\n",
       "arrival_minute      float64\n",
       "dtype: object"
      ]
     },
     "execution_count": 47,
     "metadata": {},
     "output_type": "execute_result"
    }
   ],
   "source": [
    "data.dtypes"
   ]
  },
  {
   "cell_type": "code",
   "execution_count": 48,
   "metadata": {
    "id": "I1kWO228fwzc"
   },
   "outputs": [],
   "source": [
    "x= data\n",
    "x= x.drop(['optimal_hours'],axis=1)\n",
    "y = data['optimal_hours']"
   ]
  },
  {
   "cell_type": "code",
   "execution_count": 49,
   "metadata": {},
   "outputs": [
    {
     "data": {
      "text/plain": [
       "Index(['Price', 'Dept_city', 'Dept_date', 'arrival_city', 'stops', 'duration',\n",
       "       'weekday', 'dept_hours', 'dept_airline', 'arrival_airline', 'B', 'E',\n",
       "       'PE', 'Afternoon_flight', 'Evening_flight', 'Morning_flight',\n",
       "       'Night_flight', 'departure_minute', 'arrival_hour', 'arrival_minute'],\n",
       "      dtype='object')"
      ]
     },
     "execution_count": 49,
     "metadata": {},
     "output_type": "execute_result"
    }
   ],
   "source": [
    "x.columns"
   ]
  },
  {
   "cell_type": "code",
   "execution_count": 50,
   "metadata": {
    "id": "uE-ZQz7WQYmE"
   },
   "outputs": [],
   "source": [
    "# feature scaling\n",
    "from sklearn.preprocessing import StandardScaler\n",
    "std = StandardScaler()\n",
    "x = pd.DataFrame(std.fit_transform(x), columns=x.columns)"
   ]
  },
  {
   "cell_type": "code",
   "execution_count": 51,
   "metadata": {
    "id": "dbKoZ1FfScNA"
   },
   "outputs": [],
   "source": [
    "data = pd.concat([x,y] , axis= 1)\n",
    "\n",
    "# spliting the data in train test split\n",
    "from sklearn.model_selection import train_test_split\n",
    "train,val  = train_test_split(data, test_size=0.20, random_state=42)"
   ]
  },
  {
   "cell_type": "code",
   "execution_count": null,
   "metadata": {
    "id": "L7jw5ZNMUNO6"
   },
   "outputs": [],
   "source": []
  },
  {
   "cell_type": "code",
   "execution_count": 52,
   "metadata": {
    "id": "JpFMTnnqUYxK"
   },
   "outputs": [],
   "source": [
    "train_feature = train.drop(['optimal_hours'],axis=1)\n",
    "train_target = train['optimal_hours']\n",
    "val_feature = val.drop(['optimal_hours'],axis=1)\n",
    "val_target = val['optimal_hours']"
   ]
  },
  {
   "cell_type": "code",
   "execution_count": 53,
   "metadata": {
    "colab": {
     "base_uri": "https://localhost:8080/"
    },
    "id": "e5a6myxpVB0_",
    "outputId": "4f0c294b-bd3e-4241-f7bd-ad29454851da"
   },
   "outputs": [
    {
     "data": {
      "text/plain": [
       "((264620, 20), (264620,), (66156, 20), (66156,))"
      ]
     },
     "execution_count": 53,
     "metadata": {},
     "output_type": "execute_result"
    }
   ],
   "source": [
    "train_feature.shape , train_target.shape , val_feature.shape , val_target.shape"
   ]
  },
  {
   "cell_type": "code",
   "execution_count": null,
   "metadata": {
    "id": "UhdxDTapnQEP"
   },
   "outputs": [],
   "source": []
  },
  {
   "cell_type": "code",
   "execution_count": null,
   "metadata": {},
   "outputs": [],
   "source": []
  },
  {
   "cell_type": "markdown",
   "metadata": {},
   "source": [
    "## Feture Selection"
   ]
  },
  {
   "cell_type": "code",
   "execution_count": 54,
   "metadata": {},
   "outputs": [],
   "source": [
    "from sklearn.feature_selection import f_regression"
   ]
  },
  {
   "cell_type": "code",
   "execution_count": 55,
   "metadata": {},
   "outputs": [],
   "source": [
    "f_score, p_value = f_regression(train_feature, train_target)"
   ]
  },
  {
   "cell_type": "code",
   "execution_count": 56,
   "metadata": {},
   "outputs": [],
   "source": [
    "data_dict = {\n",
    "    'f_score': f_score,\n",
    "    'p_value': p_value\n",
    "}"
   ]
  },
  {
   "cell_type": "code",
   "execution_count": 57,
   "metadata": {},
   "outputs": [],
   "source": [
    "feature_imp_df = pd.DataFrame(data_dict, index = train_feature.columns)"
   ]
  },
  {
   "cell_type": "code",
   "execution_count": 58,
   "metadata": {},
   "outputs": [
    {
     "data": {
      "text/html": [
       "<div>\n",
       "<style scoped>\n",
       "    .dataframe tbody tr th:only-of-type {\n",
       "        vertical-align: middle;\n",
       "    }\n",
       "\n",
       "    .dataframe tbody tr th {\n",
       "        vertical-align: top;\n",
       "    }\n",
       "\n",
       "    .dataframe thead th {\n",
       "        text-align: right;\n",
       "    }\n",
       "</style>\n",
       "<table border=\"1\" class=\"dataframe\">\n",
       "  <thead>\n",
       "    <tr style=\"text-align: right;\">\n",
       "      <th></th>\n",
       "      <th>f_score</th>\n",
       "      <th>p_value</th>\n",
       "    </tr>\n",
       "  </thead>\n",
       "  <tbody>\n",
       "    <tr>\n",
       "      <th>dept_hours</th>\n",
       "      <td>4958.726105</td>\n",
       "      <td>0.000000e+00</td>\n",
       "    </tr>\n",
       "    <tr>\n",
       "      <th>Night_flight</th>\n",
       "      <td>4577.727199</td>\n",
       "      <td>0.000000e+00</td>\n",
       "    </tr>\n",
       "    <tr>\n",
       "      <th>Evening_flight</th>\n",
       "      <td>3526.237542</td>\n",
       "      <td>0.000000e+00</td>\n",
       "    </tr>\n",
       "    <tr>\n",
       "      <th>Morning_flight</th>\n",
       "      <td>2191.143332</td>\n",
       "      <td>0.000000e+00</td>\n",
       "    </tr>\n",
       "    <tr>\n",
       "      <th>Afternoon_flight</th>\n",
       "      <td>1866.828501</td>\n",
       "      <td>0.000000e+00</td>\n",
       "    </tr>\n",
       "    <tr>\n",
       "      <th>weekday</th>\n",
       "      <td>1019.427838</td>\n",
       "      <td>2.867726e-223</td>\n",
       "    </tr>\n",
       "    <tr>\n",
       "      <th>arrival_hour</th>\n",
       "      <td>665.886174</td>\n",
       "      <td>1.192383e-146</td>\n",
       "    </tr>\n",
       "    <tr>\n",
       "      <th>duration</th>\n",
       "      <td>231.444104</td>\n",
       "      <td>3.037855e-52</td>\n",
       "    </tr>\n",
       "    <tr>\n",
       "      <th>departure_minute</th>\n",
       "      <td>115.410305</td>\n",
       "      <td>6.481289e-27</td>\n",
       "    </tr>\n",
       "    <tr>\n",
       "      <th>dept_airline</th>\n",
       "      <td>91.198747</td>\n",
       "      <td>1.309898e-21</td>\n",
       "    </tr>\n",
       "    <tr>\n",
       "      <th>Dept_date</th>\n",
       "      <td>81.669464</td>\n",
       "      <td>1.619013e-19</td>\n",
       "    </tr>\n",
       "    <tr>\n",
       "      <th>arrival_airline</th>\n",
       "      <td>50.335422</td>\n",
       "      <td>1.299120e-12</td>\n",
       "    </tr>\n",
       "    <tr>\n",
       "      <th>Dept_city</th>\n",
       "      <td>24.354790</td>\n",
       "      <td>8.017582e-07</td>\n",
       "    </tr>\n",
       "    <tr>\n",
       "      <th>B</th>\n",
       "      <td>13.841178</td>\n",
       "      <td>1.989695e-04</td>\n",
       "    </tr>\n",
       "    <tr>\n",
       "      <th>arrival_minute</th>\n",
       "      <td>10.144665</td>\n",
       "      <td>1.447363e-03</td>\n",
       "    </tr>\n",
       "    <tr>\n",
       "      <th>stops</th>\n",
       "      <td>9.502910</td>\n",
       "      <td>2.051674e-03</td>\n",
       "    </tr>\n",
       "    <tr>\n",
       "      <th>Price</th>\n",
       "      <td>7.609962</td>\n",
       "      <td>5.805069e-03</td>\n",
       "    </tr>\n",
       "    <tr>\n",
       "      <th>E</th>\n",
       "      <td>6.254041</td>\n",
       "      <td>1.239163e-02</td>\n",
       "    </tr>\n",
       "    <tr>\n",
       "      <th>PE</th>\n",
       "      <td>4.291538</td>\n",
       "      <td>3.830347e-02</td>\n",
       "    </tr>\n",
       "    <tr>\n",
       "      <th>arrival_city</th>\n",
       "      <td>3.100185</td>\n",
       "      <td>7.828453e-02</td>\n",
       "    </tr>\n",
       "  </tbody>\n",
       "</table>\n",
       "</div>"
      ],
      "text/plain": [
       "                      f_score        p_value\n",
       "dept_hours        4958.726105   0.000000e+00\n",
       "Night_flight      4577.727199   0.000000e+00\n",
       "Evening_flight    3526.237542   0.000000e+00\n",
       "Morning_flight    2191.143332   0.000000e+00\n",
       "Afternoon_flight  1866.828501   0.000000e+00\n",
       "weekday           1019.427838  2.867726e-223\n",
       "arrival_hour       665.886174  1.192383e-146\n",
       "duration           231.444104   3.037855e-52\n",
       "departure_minute   115.410305   6.481289e-27\n",
       "dept_airline        91.198747   1.309898e-21\n",
       "Dept_date           81.669464   1.619013e-19\n",
       "arrival_airline     50.335422   1.299120e-12\n",
       "Dept_city           24.354790   8.017582e-07\n",
       "B                   13.841178   1.989695e-04\n",
       "arrival_minute      10.144665   1.447363e-03\n",
       "stops                9.502910   2.051674e-03\n",
       "Price                7.609962   5.805069e-03\n",
       "E                    6.254041   1.239163e-02\n",
       "PE                   4.291538   3.830347e-02\n",
       "arrival_city         3.100185   7.828453e-02"
      ]
     },
     "execution_count": 58,
     "metadata": {},
     "output_type": "execute_result"
    }
   ],
   "source": [
    "feature_imp_df.sort_values(by='f_score', ascending=False)"
   ]
  },
  {
   "cell_type": "code",
   "execution_count": 59,
   "metadata": {},
   "outputs": [
    {
     "name": "stderr",
     "output_type": "stream",
     "text": [
      "C:\\Users\\ASHISH~1\\AppData\\Local\\Temp/ipykernel_8376/38990432.py:1: UserWarning: Boolean Series key will be reindexed to match DataFrame index.\n",
      "  feature_imp_list = feature_imp_df[feature_imp_df.sort_values(by='f_score', ascending=False)['f_score']>20].index.tolist()\n"
     ]
    }
   ],
   "source": [
    "feature_imp_list = feature_imp_df[feature_imp_df.sort_values(by='f_score', ascending=False)['f_score']>20].index.tolist()"
   ]
  },
  {
   "cell_type": "code",
   "execution_count": 60,
   "metadata": {},
   "outputs": [],
   "source": [
    "feature_imp_list.append('Price')"
   ]
  },
  {
   "cell_type": "code",
   "execution_count": 61,
   "metadata": {},
   "outputs": [
    {
     "data": {
      "text/plain": [
       "['Dept_city',\n",
       " 'Dept_date',\n",
       " 'duration',\n",
       " 'weekday',\n",
       " 'dept_hours',\n",
       " 'dept_airline',\n",
       " 'arrival_airline',\n",
       " 'Afternoon_flight',\n",
       " 'Evening_flight',\n",
       " 'Morning_flight',\n",
       " 'Night_flight',\n",
       " 'departure_minute',\n",
       " 'arrival_hour',\n",
       " 'Price']"
      ]
     },
     "execution_count": 61,
     "metadata": {},
     "output_type": "execute_result"
    }
   ],
   "source": [
    "feature_imp_list"
   ]
  },
  {
   "cell_type": "code",
   "execution_count": 62,
   "metadata": {},
   "outputs": [],
   "source": [
    "train_feature = train_feature[feature_imp_list]"
   ]
  },
  {
   "cell_type": "code",
   "execution_count": 63,
   "metadata": {},
   "outputs": [],
   "source": [
    "val_feature = val_feature[feature_imp_list]"
   ]
  },
  {
   "cell_type": "code",
   "execution_count": 64,
   "metadata": {},
   "outputs": [
    {
     "data": {
      "text/html": [
       "<div>\n",
       "<style scoped>\n",
       "    .dataframe tbody tr th:only-of-type {\n",
       "        vertical-align: middle;\n",
       "    }\n",
       "\n",
       "    .dataframe tbody tr th {\n",
       "        vertical-align: top;\n",
       "    }\n",
       "\n",
       "    .dataframe thead th {\n",
       "        text-align: right;\n",
       "    }\n",
       "</style>\n",
       "<table border=\"1\" class=\"dataframe\">\n",
       "  <thead>\n",
       "    <tr style=\"text-align: right;\">\n",
       "      <th></th>\n",
       "      <th>Dept_city</th>\n",
       "      <th>Dept_date</th>\n",
       "      <th>duration</th>\n",
       "      <th>weekday</th>\n",
       "      <th>dept_hours</th>\n",
       "      <th>dept_airline</th>\n",
       "      <th>arrival_airline</th>\n",
       "      <th>Afternoon_flight</th>\n",
       "      <th>Evening_flight</th>\n",
       "      <th>Morning_flight</th>\n",
       "      <th>Night_flight</th>\n",
       "      <th>departure_minute</th>\n",
       "      <th>arrival_hour</th>\n",
       "      <th>Price</th>\n",
       "    </tr>\n",
       "  </thead>\n",
       "  <tbody>\n",
       "    <tr>\n",
       "      <th>259777</th>\n",
       "      <td>-1.033324</td>\n",
       "      <td>-1.556629</td>\n",
       "      <td>0.631442</td>\n",
       "      <td>-0.910536</td>\n",
       "      <td>-0.743243</td>\n",
       "      <td>-1.094068</td>\n",
       "      <td>-1.088786</td>\n",
       "      <td>-0.679915</td>\n",
       "      <td>-0.524902</td>\n",
       "      <td>1.262560</td>\n",
       "      <td>-0.299582</td>\n",
       "      <td>1.613641</td>\n",
       "      <td>1.601202</td>\n",
       "      <td>1.986117</td>\n",
       "    </tr>\n",
       "    <tr>\n",
       "      <th>58190</th>\n",
       "      <td>0.284372</td>\n",
       "      <td>-0.944347</td>\n",
       "      <td>-1.386102</td>\n",
       "      <td>1.483499</td>\n",
       "      <td>1.525255</td>\n",
       "      <td>1.118358</td>\n",
       "      <td>1.178528</td>\n",
       "      <td>-0.679915</td>\n",
       "      <td>1.905118</td>\n",
       "      <td>-0.792042</td>\n",
       "      <td>-0.299582</td>\n",
       "      <td>0.763112</td>\n",
       "      <td>1.411655</td>\n",
       "      <td>-0.665173</td>\n",
       "    </tr>\n",
       "    <tr>\n",
       "      <th>60546</th>\n",
       "      <td>-0.554162</td>\n",
       "      <td>-0.821891</td>\n",
       "      <td>1.152984</td>\n",
       "      <td>-1.389343</td>\n",
       "      <td>0.700347</td>\n",
       "      <td>-1.094068</td>\n",
       "      <td>-1.088786</td>\n",
       "      <td>-0.679915</td>\n",
       "      <td>1.905118</td>\n",
       "      <td>-0.792042</td>\n",
       "      <td>-0.299582</td>\n",
       "      <td>-0.654436</td>\n",
       "      <td>-1.052450</td>\n",
       "      <td>-0.074506</td>\n",
       "    </tr>\n",
       "    <tr>\n",
       "      <th>54032</th>\n",
       "      <td>-0.314581</td>\n",
       "      <td>-0.944347</td>\n",
       "      <td>-1.564525</td>\n",
       "      <td>1.483499</td>\n",
       "      <td>-0.743243</td>\n",
       "      <td>-1.094068</td>\n",
       "      <td>-1.088786</td>\n",
       "      <td>-0.679915</td>\n",
       "      <td>-0.524902</td>\n",
       "      <td>1.262560</td>\n",
       "      <td>-0.299582</td>\n",
       "      <td>0.196093</td>\n",
       "      <td>-1.052450</td>\n",
       "      <td>-0.066088</td>\n",
       "    </tr>\n",
       "    <tr>\n",
       "      <th>102145</th>\n",
       "      <td>1.721858</td>\n",
       "      <td>-0.332065</td>\n",
       "      <td>0.343222</td>\n",
       "      <td>0.525885</td>\n",
       "      <td>1.112801</td>\n",
       "      <td>1.118358</td>\n",
       "      <td>1.178528</td>\n",
       "      <td>-0.679915</td>\n",
       "      <td>1.905118</td>\n",
       "      <td>-0.792042</td>\n",
       "      <td>-0.299582</td>\n",
       "      <td>0.763112</td>\n",
       "      <td>-1.621089</td>\n",
       "      <td>-0.570737</td>\n",
       "    </tr>\n",
       "    <tr>\n",
       "      <th>...</th>\n",
       "      <td>...</td>\n",
       "      <td>...</td>\n",
       "      <td>...</td>\n",
       "      <td>...</td>\n",
       "      <td>...</td>\n",
       "      <td>...</td>\n",
       "      <td>...</td>\n",
       "      <td>...</td>\n",
       "      <td>...</td>\n",
       "      <td>...</td>\n",
       "      <td>...</td>\n",
       "      <td>...</td>\n",
       "      <td>...</td>\n",
       "      <td>...</td>\n",
       "    </tr>\n",
       "    <tr>\n",
       "      <th>119879</th>\n",
       "      <td>0.044791</td>\n",
       "      <td>-0.087153</td>\n",
       "      <td>2.237243</td>\n",
       "      <td>1.483499</td>\n",
       "      <td>-0.537016</td>\n",
       "      <td>0.565251</td>\n",
       "      <td>2.312185</td>\n",
       "      <td>-0.679915</td>\n",
       "      <td>-0.524902</td>\n",
       "      <td>1.262560</td>\n",
       "      <td>-0.299582</td>\n",
       "      <td>-1.504965</td>\n",
       "      <td>-1.052450</td>\n",
       "      <td>-0.263504</td>\n",
       "    </tr>\n",
       "    <tr>\n",
       "      <th>259178</th>\n",
       "      <td>0.404162</td>\n",
       "      <td>-1.556629</td>\n",
       "      <td>-0.507716</td>\n",
       "      <td>-0.910536</td>\n",
       "      <td>-0.537016</td>\n",
       "      <td>-1.094068</td>\n",
       "      <td>-1.088786</td>\n",
       "      <td>-0.679915</td>\n",
       "      <td>-0.524902</td>\n",
       "      <td>1.262560</td>\n",
       "      <td>-0.299582</td>\n",
       "      <td>-0.087417</td>\n",
       "      <td>0.463922</td>\n",
       "      <td>1.318611</td>\n",
       "    </tr>\n",
       "    <tr>\n",
       "      <th>131932</th>\n",
       "      <td>1.122905</td>\n",
       "      <td>0.035304</td>\n",
       "      <td>-1.193955</td>\n",
       "      <td>-1.389343</td>\n",
       "      <td>-1.155697</td>\n",
       "      <td>-1.094068</td>\n",
       "      <td>-1.088786</td>\n",
       "      <td>-0.679915</td>\n",
       "      <td>-0.524902</td>\n",
       "      <td>1.262560</td>\n",
       "      <td>-0.299582</td>\n",
       "      <td>1.046621</td>\n",
       "      <td>-0.862903</td>\n",
       "      <td>-0.343762</td>\n",
       "    </tr>\n",
       "    <tr>\n",
       "      <th>146867</th>\n",
       "      <td>-1.272905</td>\n",
       "      <td>0.280216</td>\n",
       "      <td>-0.150871</td>\n",
       "      <td>-0.431729</td>\n",
       "      <td>0.081666</td>\n",
       "      <td>0.565251</td>\n",
       "      <td>0.611700</td>\n",
       "      <td>1.470772</td>\n",
       "      <td>-0.524902</td>\n",
       "      <td>-0.792042</td>\n",
       "      <td>-0.299582</td>\n",
       "      <td>-0.937946</td>\n",
       "      <td>1.411655</td>\n",
       "      <td>-0.607258</td>\n",
       "    </tr>\n",
       "    <tr>\n",
       "      <th>121958</th>\n",
       "      <td>1.242696</td>\n",
       "      <td>-0.087153</td>\n",
       "      <td>0.480470</td>\n",
       "      <td>1.483499</td>\n",
       "      <td>1.525255</td>\n",
       "      <td>0.565251</td>\n",
       "      <td>0.611700</td>\n",
       "      <td>-0.679915</td>\n",
       "      <td>1.905118</td>\n",
       "      <td>-0.792042</td>\n",
       "      <td>-0.299582</td>\n",
       "      <td>0.479602</td>\n",
       "      <td>-1.052450</td>\n",
       "      <td>-0.401803</td>\n",
       "    </tr>\n",
       "  </tbody>\n",
       "</table>\n",
       "<p>264620 rows × 14 columns</p>\n",
       "</div>"
      ],
      "text/plain": [
       "        Dept_city  Dept_date  duration   weekday  dept_hours  dept_airline  \\\n",
       "259777  -1.033324  -1.556629  0.631442 -0.910536   -0.743243     -1.094068   \n",
       "58190    0.284372  -0.944347 -1.386102  1.483499    1.525255      1.118358   \n",
       "60546   -0.554162  -0.821891  1.152984 -1.389343    0.700347     -1.094068   \n",
       "54032   -0.314581  -0.944347 -1.564525  1.483499   -0.743243     -1.094068   \n",
       "102145   1.721858  -0.332065  0.343222  0.525885    1.112801      1.118358   \n",
       "...           ...        ...       ...       ...         ...           ...   \n",
       "119879   0.044791  -0.087153  2.237243  1.483499   -0.537016      0.565251   \n",
       "259178   0.404162  -1.556629 -0.507716 -0.910536   -0.537016     -1.094068   \n",
       "131932   1.122905   0.035304 -1.193955 -1.389343   -1.155697     -1.094068   \n",
       "146867  -1.272905   0.280216 -0.150871 -0.431729    0.081666      0.565251   \n",
       "121958   1.242696  -0.087153  0.480470  1.483499    1.525255      0.565251   \n",
       "\n",
       "        arrival_airline  Afternoon_flight  Evening_flight  Morning_flight  \\\n",
       "259777        -1.088786         -0.679915       -0.524902        1.262560   \n",
       "58190          1.178528         -0.679915        1.905118       -0.792042   \n",
       "60546         -1.088786         -0.679915        1.905118       -0.792042   \n",
       "54032         -1.088786         -0.679915       -0.524902        1.262560   \n",
       "102145         1.178528         -0.679915        1.905118       -0.792042   \n",
       "...                 ...               ...             ...             ...   \n",
       "119879         2.312185         -0.679915       -0.524902        1.262560   \n",
       "259178        -1.088786         -0.679915       -0.524902        1.262560   \n",
       "131932        -1.088786         -0.679915       -0.524902        1.262560   \n",
       "146867         0.611700          1.470772       -0.524902       -0.792042   \n",
       "121958         0.611700         -0.679915        1.905118       -0.792042   \n",
       "\n",
       "        Night_flight  departure_minute  arrival_hour     Price  \n",
       "259777     -0.299582          1.613641      1.601202  1.986117  \n",
       "58190      -0.299582          0.763112      1.411655 -0.665173  \n",
       "60546      -0.299582         -0.654436     -1.052450 -0.074506  \n",
       "54032      -0.299582          0.196093     -1.052450 -0.066088  \n",
       "102145     -0.299582          0.763112     -1.621089 -0.570737  \n",
       "...              ...               ...           ...       ...  \n",
       "119879     -0.299582         -1.504965     -1.052450 -0.263504  \n",
       "259178     -0.299582         -0.087417      0.463922  1.318611  \n",
       "131932     -0.299582          1.046621     -0.862903 -0.343762  \n",
       "146867     -0.299582         -0.937946      1.411655 -0.607258  \n",
       "121958     -0.299582          0.479602     -1.052450 -0.401803  \n",
       "\n",
       "[264620 rows x 14 columns]"
      ]
     },
     "execution_count": 64,
     "metadata": {},
     "output_type": "execute_result"
    }
   ],
   "source": [
    "train_feature"
   ]
  },
  {
   "cell_type": "code",
   "execution_count": null,
   "metadata": {},
   "outputs": [],
   "source": []
  },
  {
   "cell_type": "markdown",
   "metadata": {},
   "source": [
    "## Linear Regression"
   ]
  },
  {
   "cell_type": "code",
   "execution_count": 65,
   "metadata": {},
   "outputs": [],
   "source": [
    "from sklearn.linear_model import LinearRegression"
   ]
  },
  {
   "cell_type": "code",
   "execution_count": 66,
   "metadata": {},
   "outputs": [],
   "source": [
    "model = LinearRegression()"
   ]
  },
  {
   "cell_type": "code",
   "execution_count": 67,
   "metadata": {},
   "outputs": [
    {
     "data": {
      "text/html": [
       "<style>#sk-container-id-1 {color: black;background-color: white;}#sk-container-id-1 pre{padding: 0;}#sk-container-id-1 div.sk-toggleable {background-color: white;}#sk-container-id-1 label.sk-toggleable__label {cursor: pointer;display: block;width: 100%;margin-bottom: 0;padding: 0.3em;box-sizing: border-box;text-align: center;}#sk-container-id-1 label.sk-toggleable__label-arrow:before {content: \"▸\";float: left;margin-right: 0.25em;color: #696969;}#sk-container-id-1 label.sk-toggleable__label-arrow:hover:before {color: black;}#sk-container-id-1 div.sk-estimator:hover label.sk-toggleable__label-arrow:before {color: black;}#sk-container-id-1 div.sk-toggleable__content {max-height: 0;max-width: 0;overflow: hidden;text-align: left;background-color: #f0f8ff;}#sk-container-id-1 div.sk-toggleable__content pre {margin: 0.2em;color: black;border-radius: 0.25em;background-color: #f0f8ff;}#sk-container-id-1 input.sk-toggleable__control:checked~div.sk-toggleable__content {max-height: 200px;max-width: 100%;overflow: auto;}#sk-container-id-1 input.sk-toggleable__control:checked~label.sk-toggleable__label-arrow:before {content: \"▾\";}#sk-container-id-1 div.sk-estimator input.sk-toggleable__control:checked~label.sk-toggleable__label {background-color: #d4ebff;}#sk-container-id-1 div.sk-label input.sk-toggleable__control:checked~label.sk-toggleable__label {background-color: #d4ebff;}#sk-container-id-1 input.sk-hidden--visually {border: 0;clip: rect(1px 1px 1px 1px);clip: rect(1px, 1px, 1px, 1px);height: 1px;margin: -1px;overflow: hidden;padding: 0;position: absolute;width: 1px;}#sk-container-id-1 div.sk-estimator {font-family: monospace;background-color: #f0f8ff;border: 1px dotted black;border-radius: 0.25em;box-sizing: border-box;margin-bottom: 0.5em;}#sk-container-id-1 div.sk-estimator:hover {background-color: #d4ebff;}#sk-container-id-1 div.sk-parallel-item::after {content: \"\";width: 100%;border-bottom: 1px solid gray;flex-grow: 1;}#sk-container-id-1 div.sk-label:hover label.sk-toggleable__label {background-color: #d4ebff;}#sk-container-id-1 div.sk-serial::before {content: \"\";position: absolute;border-left: 1px solid gray;box-sizing: border-box;top: 0;bottom: 0;left: 50%;z-index: 0;}#sk-container-id-1 div.sk-serial {display: flex;flex-direction: column;align-items: center;background-color: white;padding-right: 0.2em;padding-left: 0.2em;position: relative;}#sk-container-id-1 div.sk-item {position: relative;z-index: 1;}#sk-container-id-1 div.sk-parallel {display: flex;align-items: stretch;justify-content: center;background-color: white;position: relative;}#sk-container-id-1 div.sk-item::before, #sk-container-id-1 div.sk-parallel-item::before {content: \"\";position: absolute;border-left: 1px solid gray;box-sizing: border-box;top: 0;bottom: 0;left: 50%;z-index: -1;}#sk-container-id-1 div.sk-parallel-item {display: flex;flex-direction: column;z-index: 1;position: relative;background-color: white;}#sk-container-id-1 div.sk-parallel-item:first-child::after {align-self: flex-end;width: 50%;}#sk-container-id-1 div.sk-parallel-item:last-child::after {align-self: flex-start;width: 50%;}#sk-container-id-1 div.sk-parallel-item:only-child::after {width: 0;}#sk-container-id-1 div.sk-dashed-wrapped {border: 1px dashed gray;margin: 0 0.4em 0.5em 0.4em;box-sizing: border-box;padding-bottom: 0.4em;background-color: white;}#sk-container-id-1 div.sk-label label {font-family: monospace;font-weight: bold;display: inline-block;line-height: 1.2em;}#sk-container-id-1 div.sk-label-container {text-align: center;}#sk-container-id-1 div.sk-container {/* jupyter's `normalize.less` sets `[hidden] { display: none; }` but bootstrap.min.css set `[hidden] { display: none !important; }` so we also need the `!important` here to be able to override the default hidden behavior on the sphinx rendered scikit-learn.org. See: https://github.com/scikit-learn/scikit-learn/issues/21755 */display: inline-block !important;position: relative;}#sk-container-id-1 div.sk-text-repr-fallback {display: none;}</style><div id=\"sk-container-id-1\" class=\"sk-top-container\"><div class=\"sk-text-repr-fallback\"><pre>LinearRegression()</pre><b>In a Jupyter environment, please rerun this cell to show the HTML representation or trust the notebook. <br />On GitHub, the HTML representation is unable to render, please try loading this page with nbviewer.org.</b></div><div class=\"sk-container\" hidden><div class=\"sk-item\"><div class=\"sk-estimator sk-toggleable\"><input class=\"sk-toggleable__control sk-hidden--visually\" id=\"sk-estimator-id-1\" type=\"checkbox\" checked><label for=\"sk-estimator-id-1\" class=\"sk-toggleable__label sk-toggleable__label-arrow\">LinearRegression</label><div class=\"sk-toggleable__content\"><pre>LinearRegression()</pre></div></div></div></div></div>"
      ],
      "text/plain": [
       "LinearRegression()"
      ]
     },
     "execution_count": 67,
     "metadata": {},
     "output_type": "execute_result"
    }
   ],
   "source": [
    "model.fit(train_feature, train_target)"
   ]
  },
  {
   "cell_type": "code",
   "execution_count": 68,
   "metadata": {},
   "outputs": [
    {
     "data": {
      "text/plain": [
       "0.04005888454515283"
      ]
     },
     "execution_count": 68,
     "metadata": {},
     "output_type": "execute_result"
    }
   ],
   "source": [
    "model.score(train_feature, train_target)"
   ]
  },
  {
   "cell_type": "code",
   "execution_count": 69,
   "metadata": {},
   "outputs": [
    {
     "data": {
      "text/plain": [
       "0.03705086463250373"
      ]
     },
     "execution_count": 69,
     "metadata": {},
     "output_type": "execute_result"
    }
   ],
   "source": [
    "model.score(val_feature, val_target)"
   ]
  },
  {
   "cell_type": "code",
   "execution_count": null,
   "metadata": {},
   "outputs": [],
   "source": []
  },
  {
   "cell_type": "code",
   "execution_count": null,
   "metadata": {},
   "outputs": [],
   "source": []
  },
  {
   "cell_type": "markdown",
   "metadata": {},
   "source": [
    "## Random Forest"
   ]
  },
  {
   "cell_type": "code",
   "execution_count": 70,
   "metadata": {},
   "outputs": [],
   "source": [
    "from sklearn.ensemble import RandomForestRegressor"
   ]
  },
  {
   "cell_type": "code",
   "execution_count": 71,
   "metadata": {},
   "outputs": [],
   "source": [
    "model = RandomForestRegressor(min_samples_leaf=6)"
   ]
  },
  {
   "cell_type": "code",
   "execution_count": 72,
   "metadata": {},
   "outputs": [
    {
     "data": {
      "text/html": [
       "<style>#sk-container-id-2 {color: black;background-color: white;}#sk-container-id-2 pre{padding: 0;}#sk-container-id-2 div.sk-toggleable {background-color: white;}#sk-container-id-2 label.sk-toggleable__label {cursor: pointer;display: block;width: 100%;margin-bottom: 0;padding: 0.3em;box-sizing: border-box;text-align: center;}#sk-container-id-2 label.sk-toggleable__label-arrow:before {content: \"▸\";float: left;margin-right: 0.25em;color: #696969;}#sk-container-id-2 label.sk-toggleable__label-arrow:hover:before {color: black;}#sk-container-id-2 div.sk-estimator:hover label.sk-toggleable__label-arrow:before {color: black;}#sk-container-id-2 div.sk-toggleable__content {max-height: 0;max-width: 0;overflow: hidden;text-align: left;background-color: #f0f8ff;}#sk-container-id-2 div.sk-toggleable__content pre {margin: 0.2em;color: black;border-radius: 0.25em;background-color: #f0f8ff;}#sk-container-id-2 input.sk-toggleable__control:checked~div.sk-toggleable__content {max-height: 200px;max-width: 100%;overflow: auto;}#sk-container-id-2 input.sk-toggleable__control:checked~label.sk-toggleable__label-arrow:before {content: \"▾\";}#sk-container-id-2 div.sk-estimator input.sk-toggleable__control:checked~label.sk-toggleable__label {background-color: #d4ebff;}#sk-container-id-2 div.sk-label input.sk-toggleable__control:checked~label.sk-toggleable__label {background-color: #d4ebff;}#sk-container-id-2 input.sk-hidden--visually {border: 0;clip: rect(1px 1px 1px 1px);clip: rect(1px, 1px, 1px, 1px);height: 1px;margin: -1px;overflow: hidden;padding: 0;position: absolute;width: 1px;}#sk-container-id-2 div.sk-estimator {font-family: monospace;background-color: #f0f8ff;border: 1px dotted black;border-radius: 0.25em;box-sizing: border-box;margin-bottom: 0.5em;}#sk-container-id-2 div.sk-estimator:hover {background-color: #d4ebff;}#sk-container-id-2 div.sk-parallel-item::after {content: \"\";width: 100%;border-bottom: 1px solid gray;flex-grow: 1;}#sk-container-id-2 div.sk-label:hover label.sk-toggleable__label {background-color: #d4ebff;}#sk-container-id-2 div.sk-serial::before {content: \"\";position: absolute;border-left: 1px solid gray;box-sizing: border-box;top: 0;bottom: 0;left: 50%;z-index: 0;}#sk-container-id-2 div.sk-serial {display: flex;flex-direction: column;align-items: center;background-color: white;padding-right: 0.2em;padding-left: 0.2em;position: relative;}#sk-container-id-2 div.sk-item {position: relative;z-index: 1;}#sk-container-id-2 div.sk-parallel {display: flex;align-items: stretch;justify-content: center;background-color: white;position: relative;}#sk-container-id-2 div.sk-item::before, #sk-container-id-2 div.sk-parallel-item::before {content: \"\";position: absolute;border-left: 1px solid gray;box-sizing: border-box;top: 0;bottom: 0;left: 50%;z-index: -1;}#sk-container-id-2 div.sk-parallel-item {display: flex;flex-direction: column;z-index: 1;position: relative;background-color: white;}#sk-container-id-2 div.sk-parallel-item:first-child::after {align-self: flex-end;width: 50%;}#sk-container-id-2 div.sk-parallel-item:last-child::after {align-self: flex-start;width: 50%;}#sk-container-id-2 div.sk-parallel-item:only-child::after {width: 0;}#sk-container-id-2 div.sk-dashed-wrapped {border: 1px dashed gray;margin: 0 0.4em 0.5em 0.4em;box-sizing: border-box;padding-bottom: 0.4em;background-color: white;}#sk-container-id-2 div.sk-label label {font-family: monospace;font-weight: bold;display: inline-block;line-height: 1.2em;}#sk-container-id-2 div.sk-label-container {text-align: center;}#sk-container-id-2 div.sk-container {/* jupyter's `normalize.less` sets `[hidden] { display: none; }` but bootstrap.min.css set `[hidden] { display: none !important; }` so we also need the `!important` here to be able to override the default hidden behavior on the sphinx rendered scikit-learn.org. See: https://github.com/scikit-learn/scikit-learn/issues/21755 */display: inline-block !important;position: relative;}#sk-container-id-2 div.sk-text-repr-fallback {display: none;}</style><div id=\"sk-container-id-2\" class=\"sk-top-container\"><div class=\"sk-text-repr-fallback\"><pre>RandomForestRegressor(min_samples_leaf=6)</pre><b>In a Jupyter environment, please rerun this cell to show the HTML representation or trust the notebook. <br />On GitHub, the HTML representation is unable to render, please try loading this page with nbviewer.org.</b></div><div class=\"sk-container\" hidden><div class=\"sk-item\"><div class=\"sk-estimator sk-toggleable\"><input class=\"sk-toggleable__control sk-hidden--visually\" id=\"sk-estimator-id-2\" type=\"checkbox\" checked><label for=\"sk-estimator-id-2\" class=\"sk-toggleable__label sk-toggleable__label-arrow\">RandomForestRegressor</label><div class=\"sk-toggleable__content\"><pre>RandomForestRegressor(min_samples_leaf=6)</pre></div></div></div></div></div>"
      ],
      "text/plain": [
       "RandomForestRegressor(min_samples_leaf=6)"
      ]
     },
     "execution_count": 72,
     "metadata": {},
     "output_type": "execute_result"
    }
   ],
   "source": [
    "model.fit(train_feature, train_target)"
   ]
  },
  {
   "cell_type": "code",
   "execution_count": 73,
   "metadata": {},
   "outputs": [
    {
     "data": {
      "text/plain": [
       "0.9216789721805463"
      ]
     },
     "execution_count": 73,
     "metadata": {},
     "output_type": "execute_result"
    }
   ],
   "source": [
    "model.score(train_feature, train_target)"
   ]
  },
  {
   "cell_type": "code",
   "execution_count": 74,
   "metadata": {},
   "outputs": [
    {
     "data": {
      "text/plain": [
       "0.8764752043260923"
      ]
     },
     "execution_count": 74,
     "metadata": {},
     "output_type": "execute_result"
    }
   ],
   "source": [
    "model.score(val_feature, val_target)"
   ]
  },
  {
   "cell_type": "code",
   "execution_count": null,
   "metadata": {},
   "outputs": [],
   "source": []
  },
  {
   "cell_type": "markdown",
   "metadata": {},
   "source": [
    "### Evaluating the performance of model"
   ]
  },
  {
   "cell_type": "code",
   "execution_count": 75,
   "metadata": {},
   "outputs": [],
   "source": [
    "##### Evaluate the performance of the fitted model #####\n",
    "\n",
    "train_predictions = model.predict(train_feature) ### predict on the train features using the fitted model\n",
    "\n",
    "val_predictions = model.predict(val_feature) ### predict on the val features using the fitted model"
   ]
  },
  {
   "cell_type": "code",
   "execution_count": null,
   "metadata": {},
   "outputs": [],
   "source": []
  },
  {
   "cell_type": "markdown",
   "metadata": {},
   "source": [
    "### Tests to evaluate the Model"
   ]
  },
  {
   "cell_type": "code",
   "execution_count": 76,
   "metadata": {},
   "outputs": [
    {
     "name": "stdout",
     "output_type": "stream",
     "text": [
      "Mean Absolute Error: 0.9806166680320731\n",
      "Mean Squared Error: 5.841743138866103\n",
      "Root Mean Squared Error: 2.416969825807948\n"
     ]
    }
   ],
   "source": [
    "from sklearn import metrics\n",
    "\n",
    "print('Mean Absolute Error:', metrics.mean_absolute_error(val_target, val_predictions))\n",
    "print('Mean Squared Error:', metrics.mean_squared_error(val_target, val_predictions))\n",
    "print('Root Mean Squared Error:', np.sqrt(metrics.mean_squared_error(val_target, val_predictions)))"
   ]
  },
  {
   "cell_type": "markdown",
   "metadata": {},
   "source": [
    "### R Square Test"
   ]
  },
  {
   "cell_type": "code",
   "execution_count": 77,
   "metadata": {},
   "outputs": [],
   "source": [
    "from sklearn.metrics import r2_score \n",
    "\n",
    "r_square_train_RF = r2_score(train_target,train_predictions)\n",
    "r_square_validation_RF = r2_score(val_target, val_predictions)"
   ]
  },
  {
   "cell_type": "code",
   "execution_count": 78,
   "metadata": {},
   "outputs": [
    {
     "data": {
      "text/plain": [
       "0.9216789721805463"
      ]
     },
     "execution_count": 78,
     "metadata": {},
     "output_type": "execute_result"
    }
   ],
   "source": [
    "r_square_train_RF"
   ]
  },
  {
   "cell_type": "code",
   "execution_count": 79,
   "metadata": {},
   "outputs": [
    {
     "data": {
      "text/plain": [
       "0.8764752043260923"
      ]
     },
     "execution_count": 79,
     "metadata": {},
     "output_type": "execute_result"
    }
   ],
   "source": [
    "r_square_validation_RF"
   ]
  },
  {
   "cell_type": "code",
   "execution_count": null,
   "metadata": {},
   "outputs": [],
   "source": []
  },
  {
   "cell_type": "code",
   "execution_count": null,
   "metadata": {},
   "outputs": [],
   "source": []
  },
  {
   "cell_type": "markdown",
   "metadata": {},
   "source": [
    "### Visual Evalutaion"
   ]
  },
  {
   "cell_type": "code",
   "execution_count": 80,
   "metadata": {},
   "outputs": [],
   "source": [
    "optimal_hours = pd.DataFrame({'Actual Value': val_target, 'Predicted Value': val_predictions})"
   ]
  },
  {
   "cell_type": "code",
   "execution_count": 81,
   "metadata": {},
   "outputs": [
    {
     "data": {
      "text/html": [
       "<div>\n",
       "<style scoped>\n",
       "    .dataframe tbody tr th:only-of-type {\n",
       "        vertical-align: middle;\n",
       "    }\n",
       "\n",
       "    .dataframe tbody tr th {\n",
       "        vertical-align: top;\n",
       "    }\n",
       "\n",
       "    .dataframe thead th {\n",
       "        text-align: right;\n",
       "    }\n",
       "</style>\n",
       "<table border=\"1\" class=\"dataframe\">\n",
       "  <thead>\n",
       "    <tr style=\"text-align: right;\">\n",
       "      <th></th>\n",
       "      <th>Actual Value</th>\n",
       "      <th>Predicted Value</th>\n",
       "    </tr>\n",
       "  </thead>\n",
       "  <tbody>\n",
       "    <tr>\n",
       "      <th>77395</th>\n",
       "      <td>0</td>\n",
       "      <td>1.062580</td>\n",
       "    </tr>\n",
       "    <tr>\n",
       "      <th>159699</th>\n",
       "      <td>22</td>\n",
       "      <td>21.516010</td>\n",
       "    </tr>\n",
       "    <tr>\n",
       "      <th>233580</th>\n",
       "      <td>1</td>\n",
       "      <td>6.556570</td>\n",
       "    </tr>\n",
       "    <tr>\n",
       "      <th>321078</th>\n",
       "      <td>22</td>\n",
       "      <td>14.074146</td>\n",
       "    </tr>\n",
       "    <tr>\n",
       "      <th>133679</th>\n",
       "      <td>19</td>\n",
       "      <td>18.651717</td>\n",
       "    </tr>\n",
       "    <tr>\n",
       "      <th>...</th>\n",
       "      <td>...</td>\n",
       "      <td>...</td>\n",
       "    </tr>\n",
       "    <tr>\n",
       "      <th>225535</th>\n",
       "      <td>17</td>\n",
       "      <td>16.814066</td>\n",
       "    </tr>\n",
       "    <tr>\n",
       "      <th>101099</th>\n",
       "      <td>22</td>\n",
       "      <td>21.877857</td>\n",
       "    </tr>\n",
       "    <tr>\n",
       "      <th>107381</th>\n",
       "      <td>18</td>\n",
       "      <td>17.949703</td>\n",
       "    </tr>\n",
       "    <tr>\n",
       "      <th>64402</th>\n",
       "      <td>20</td>\n",
       "      <td>20.060622</td>\n",
       "    </tr>\n",
       "    <tr>\n",
       "      <th>260065</th>\n",
       "      <td>8</td>\n",
       "      <td>8.000000</td>\n",
       "    </tr>\n",
       "  </tbody>\n",
       "</table>\n",
       "<p>66156 rows × 2 columns</p>\n",
       "</div>"
      ],
      "text/plain": [
       "        Actual Value  Predicted Value\n",
       "77395              0         1.062580\n",
       "159699            22        21.516010\n",
       "233580             1         6.556570\n",
       "321078            22        14.074146\n",
       "133679            19        18.651717\n",
       "...              ...              ...\n",
       "225535            17        16.814066\n",
       "101099            22        21.877857\n",
       "107381            18        17.949703\n",
       "64402             20        20.060622\n",
       "260065             8         8.000000\n",
       "\n",
       "[66156 rows x 2 columns]"
      ]
     },
     "execution_count": 81,
     "metadata": {},
     "output_type": "execute_result"
    }
   ],
   "source": [
    "optimal_hours"
   ]
  },
  {
   "cell_type": "code",
   "execution_count": 82,
   "metadata": {},
   "outputs": [
    {
     "data": {
      "text/plain": [
       "<AxesSubplot:>"
      ]
     },
     "execution_count": 82,
     "metadata": {},
     "output_type": "execute_result"
    },
    {
     "data": {
      "image/png": "[encoded data removed]",
      "text/plain": [
       "<Figure size 432x288 with 1 Axes>"
      ]
     },
     "metadata": {
      "needs_background": "light"
     },
     "output_type": "display_data"
    }
   ],
   "source": [
    "sns.lineplot(data=optimal_hours)"
   ]
  },
  {
   "cell_type": "code",
   "execution_count": null,
   "metadata": {},
   "outputs": [],
   "source": []
  },
  {
   "cell_type": "code",
   "execution_count": 84,
   "metadata": {},
   "outputs": [],
   "source": [
    "####### Save the model #####\n",
    "\n",
    "##### Models are saved in something known as pickle file ########\n",
    "import pickle\n",
    "with open('models/random_forest_model.pickle', 'wb')  as f: ##### wb indictes open the file in write mode\n",
    "    pickle.dump(model, f)"
   ]
  },
  {
   "cell_type": "code",
   "execution_count": null,
   "metadata": {},
   "outputs": [],
   "source": []
  },
  {
   "cell_type": "code",
   "execution_count": null,
   "metadata": {},
   "outputs": [],
   "source": []
  }
 ],
 "metadata": {
  "colab": {
   "collapsed_sections": [],
   "name": "Copy of Optimal_Time_final _EDA.ipynb",
   "provenance": []
  },
  "kernelspec": {
   "display_name": "Python 3 (ipykernel)",
   "language": "python",
   "name": "python3"
  },
  "language_info": {
   "codemirror_mode": {
    "name": "ipython",
    "version": 3
   },
   "file_extension": ".py",
   "mimetype": "text/x-python",
   "name": "python",
   "nbconvert_exporter": "python",
   "pygments_lexer": "ipython3",
   "version": "3.9.7"
  }
 },
 "nbformat": 4,
 "nbformat_minor": 1
}
